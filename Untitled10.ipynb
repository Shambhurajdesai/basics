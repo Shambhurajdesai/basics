{
  "nbformat": 4,
  "nbformat_minor": 0,
  "metadata": {
    "colab": {
      "provenance": [],
      "collapsed_sections": [],
      "authorship_tag": "ABX9TyMw0QCsLv/5YczcpTUF7HCi",
      "include_colab_link": true
    },
    "kernelspec": {
      "name": "python3",
      "display_name": "Python 3"
    },
    "language_info": {
      "name": "python"
    }
  },
  "cells": [
    {
      "cell_type": "markdown",
      "metadata": {
        "id": "view-in-github",
        "colab_type": "text"
      },
      "source": [
        "<a href=\"https://colab.research.google.com/github/Shambhurajdesai/basics/blob/main/Untitled10.ipynb\" target=\"_parent\"><img src=\"https://colab.research.google.com/assets/colab-badge.svg\" alt=\"Open In Colab\"/></a>"
      ]
    },
    {
      "cell_type": "code",
      "execution_count": null,
      "metadata": {
        "colab": {
          "base_uri": "https://localhost:8080/"
        },
        "id": "coKoMCaXkSxw",
        "outputId": "4f1ceff7-7788-401b-c0fb-9503333a875c"
      },
      "outputs": [
        {
          "output_type": "stream",
          "name": "stdout",
          "text": [
            "[-99, 0, 1, 1, 2, 2, 3, 4, 45, 56, 99, 151]\n"
          ]
        }
      ],
      "source": [
        "#sorting without using sorted method\n",
        "list_ = [ 3,4,56,99,-99,151,45,2,1,0,1,2]\n",
        "n = len(list_)\n",
        "for i in range(n):\n",
        "  for j in range(i+1,n):\n",
        "    if list_[i] > list_[j]:\n",
        "      list_[i],list_[j] = list_[j],list_[i]\n",
        "print(list_)"
      ]
    },
    {
      "cell_type": "code",
      "source": [
        "#switching the elements \n",
        "def switch(list_,pos1,pos2):\n",
        "  list_[pos1],list_[pos2] = list_[pos2],list_[pos1]\n",
        "  return list_"
      ],
      "metadata": {
        "id": "UCOII6ARk7qn"
      },
      "execution_count": null,
      "outputs": []
    },
    {
      "cell_type": "code",
      "source": [
        "switch(list_,0,-1)"
      ],
      "metadata": {
        "colab": {
          "base_uri": "https://localhost:8080/"
        },
        "id": "cVzf05lAmPHW",
        "outputId": "c1136f47-f0e4-4182-81c3-37693840778e"
      },
      "execution_count": null,
      "outputs": [
        {
          "output_type": "execute_result",
          "data": {
            "text/plain": [
              "[151, 0, 1, 1, 2, 2, 3, 4, 45, 56, 99, -99]"
            ]
          },
          "metadata": {},
          "execution_count": 8
        }
      ]
    },
    {
      "cell_type": "code",
      "source": [
        "#list comprehension: squaring terms\n",
        "def square(start,end):\n",
        "  squares = [value**2 for value in range(start,end+1)]\n",
        "  return squares\n"
      ],
      "metadata": {
        "id": "riG_546tmSr5"
      },
      "execution_count": null,
      "outputs": []
    },
    {
      "cell_type": "code",
      "source": [
        "square(0,10)"
      ],
      "metadata": {
        "colab": {
          "base_uri": "https://localhost:8080/"
        },
        "id": "74TKwfZGnE1g",
        "outputId": "a23e3d99-acc3-4754-f098-9bee58d46b5f"
      },
      "execution_count": null,
      "outputs": [
        {
          "output_type": "execute_result",
          "data": {
            "text/plain": [
              "[0, 1, 4, 9, 16, 25, 36, 49, 64, 81, 100]"
            ]
          },
          "metadata": {},
          "execution_count": 13
        }
      ]
    },
    {
      "cell_type": "code",
      "source": [
        "#check whether the word is Pallindrome or not\n",
        "word = input()\n",
        "result = word[::-1] == -1\n",
        "print(f\"It is {result} that the {word} is Pallindrome word.\")"
      ],
      "metadata": {
        "colab": {
          "base_uri": "https://localhost:8080/"
        },
        "id": "YnUrKnMEonoq",
        "outputId": "d828f032-6b81-4c00-bfc6-aa2064611ca9"
      },
      "execution_count": null,
      "outputs": [
        {
          "output_type": "stream",
          "name": "stdout",
          "text": [
            "shambhuraj\n",
            "It is False that the shambhuraj is Pallindrome word.\n"
          ]
        }
      ]
    },
    {
      "cell_type": "code",
      "source": [
        "#Check whether the bridge is safe or not\n",
        "bridge = input()\n",
        "result = bridge.find(\" \") == -1\n",
        "print(f'It is {result} that bridge is safe')"
      ],
      "metadata": {
        "colab": {
          "base_uri": "https://localhost:8080/"
        },
        "id": "GBDH4_iUqc-k",
        "outputId": "85c7b604-60d9-4d98-e539-7a4d5e665055"
      },
      "execution_count": null,
      "outputs": [
        {
          "output_type": "stream",
          "name": "stdout",
          "text": [
            "shambhuraj desai\n",
            "It is False that bridge is safe\n"
          ]
        }
      ]
    },
    {
      "cell_type": "code",
      "source": [
        "#define a factorial\n",
        "def factorial(n):\n",
        "  f = 1\n",
        "  for i in range(1,n+1):\n",
        "    f = f*i\n",
        "  return f"
      ],
      "metadata": {
        "id": "RLb7OHP1q12T"
      },
      "execution_count": 3,
      "outputs": []
    },
    {
      "cell_type": "code",
      "source": [
        "factorial(5)"
      ],
      "metadata": {
        "colab": {
          "base_uri": "https://localhost:8080/"
        },
        "id": "iVZbgj449nYk",
        "outputId": "7215bc4e-a979-43e6-875f-3bdbd342c231"
      },
      "execution_count": 4,
      "outputs": [
        {
          "output_type": "execute_result",
          "data": {
            "text/plain": [
              "120"
            ]
          },
          "metadata": {},
          "execution_count": 4
        }
      ]
    },
    {
      "cell_type": "code",
      "source": [
        "def C(n,r):\n",
        "  return int(factorial(n)/(factorial(r) * factorial(n-r)))"
      ],
      "metadata": {
        "id": "v85hG5Mr9yIr"
      },
      "execution_count": 28,
      "outputs": []
    },
    {
      "cell_type": "code",
      "source": [
        "def P(n,r):\n",
        "  return int(factorial(n)/factorial(n-r))"
      ],
      "metadata": {
        "id": "JCr6HMqx-OhQ"
      },
      "execution_count": 29,
      "outputs": []
    },
    {
      "cell_type": "code",
      "source": [
        "from itertools import permutations\n",
        "from itertools import combinations"
      ],
      "metadata": {
        "id": "lMNXInbSAQAk"
      },
      "execution_count": 9,
      "outputs": []
    },
    {
      "cell_type": "code",
      "source": [
        "seq = permutations(['a','b','c'])\n",
        "\n",
        "for p in list(seq):\n",
        "  print(p)"
      ],
      "metadata": {
        "colab": {
          "base_uri": "https://localhost:8080/"
        },
        "id": "1IVHh329AvCB",
        "outputId": "874d3a05-3f6f-4f17-811a-0622cd2696fb"
      },
      "execution_count": 10,
      "outputs": [
        {
          "output_type": "stream",
          "name": "stdout",
          "text": [
            "('a', 'b', 'c')\n",
            "('a', 'c', 'b')\n",
            "('b', 'a', 'c')\n",
            "('b', 'c', 'a')\n",
            "('c', 'a', 'b')\n",
            "('c', 'b', 'a')\n"
          ]
        }
      ]
    },
    {
      "cell_type": "code",
      "source": [
        "P(3,3)"
      ],
      "metadata": {
        "colab": {
          "base_uri": "https://localhost:8080/"
        },
        "id": "ZO5Cxlb1BEGM",
        "outputId": "b994a0c7-c374-431e-b860-cd9a82204d01"
      },
      "execution_count": 30,
      "outputs": [
        {
          "output_type": "execute_result",
          "data": {
            "text/plain": [
              "6"
            ]
          },
          "metadata": {},
          "execution_count": 30
        }
      ]
    },
    {
      "cell_type": "code",
      "source": [
        "seq = permutations(['a','b','c'],2)\n",
        "\n",
        "for p in list(seq):\n",
        "  print(p)"
      ],
      "metadata": {
        "colab": {
          "base_uri": "https://localhost:8080/"
        },
        "id": "rSuiGS2UBQF8",
        "outputId": "86050244-d72a-47fb-dfa4-218c7fbdd773"
      },
      "execution_count": 14,
      "outputs": [
        {
          "output_type": "stream",
          "name": "stdout",
          "text": [
            "('a', 'b')\n",
            "('a', 'c')\n",
            "('b', 'a')\n",
            "('b', 'c')\n",
            "('c', 'a')\n",
            "('c', 'b')\n"
          ]
        }
      ]
    },
    {
      "cell_type": "code",
      "source": [
        "P(3,2)"
      ],
      "metadata": {
        "colab": {
          "base_uri": "https://localhost:8080/"
        },
        "id": "UGo3Gr8qB1PS",
        "outputId": "a5af3941-0a48-4a2b-b3f9-b84f9e5e8731"
      },
      "execution_count": 31,
      "outputs": [
        {
          "output_type": "execute_result",
          "data": {
            "text/plain": [
              "6"
            ]
          },
          "metadata": {},
          "execution_count": 31
        }
      ]
    },
    {
      "cell_type": "code",
      "source": [
        "c = combinations(['a','b','c','d'],3)\n",
        "\n",
        "for i in list(c):\n",
        "  print(i)"
      ],
      "metadata": {
        "colab": {
          "base_uri": "https://localhost:8080/"
        },
        "id": "Q9Tm4cRyB4bm",
        "outputId": "e67ee9c9-e630-4844-cc41-ee4059c1f3b1"
      },
      "execution_count": 21,
      "outputs": [
        {
          "output_type": "stream",
          "name": "stdout",
          "text": [
            "('a', 'b', 'c')\n",
            "('a', 'b', 'd')\n",
            "('a', 'c', 'd')\n",
            "('b', 'c', 'd')\n"
          ]
        }
      ]
    },
    {
      "cell_type": "code",
      "source": [
        "C(4,3)"
      ],
      "metadata": {
        "colab": {
          "base_uri": "https://localhost:8080/"
        },
        "id": "i3Xj4lX6COfU",
        "outputId": "8661ded8-4f89-4caf-c7e3-bc7dadba0cb2"
      },
      "execution_count": 32,
      "outputs": [
        {
          "output_type": "execute_result",
          "data": {
            "text/plain": [
              "4"
            ]
          },
          "metadata": {},
          "execution_count": 32
        }
      ]
    },
    {
      "cell_type": "code",
      "source": [
        "n = int(5)\n",
        "list_ = [2,3,6,6,5]\n",
        "for i in range(n):\n",
        "   for j in range(i+1,n):\n",
        "      if list_[i] > list_[j]:\n",
        "        list_[i],list_[j] = list_[j],list_[i]\n",
        "print(list_)\n",
        "    \n",
        "list_.pop()\n"
      ],
      "metadata": {
        "colab": {
          "base_uri": "https://localhost:8080/"
        },
        "id": "EggSiUlYCgy0",
        "outputId": "ad3370ed-77f0-4710-ece6-115d55cbba61"
      },
      "execution_count": 33,
      "outputs": [
        {
          "output_type": "stream",
          "name": "stdout",
          "text": [
            "[2, 3, 5, 6, 6]\n"
          ]
        },
        {
          "output_type": "execute_result",
          "data": {
            "text/plain": [
              "6"
            ]
          },
          "metadata": {},
          "execution_count": 33
        }
      ]
    },
    {
      "cell_type": "code",
      "source": [
        "n = int(5)\n",
        "list_ = [2,3,6,6,5]\n",
        "max_ = max(list_)\n",
        "srt_ = list_.remove(max_)\n",
        "for i in srt_:\n",
        "  if i == max_:\n",
        "    srt_.remove(i)\n",
        "print(srt_)"
      ],
      "metadata": {
        "colab": {
          "base_uri": "https://localhost:8080/",
          "height": 236
        },
        "id": "V8Cex6rPGrne",
        "outputId": "4aad4df8-1133-4bb4-81fa-2b1f3d23ea00"
      },
      "execution_count": 60,
      "outputs": [
        {
          "output_type": "error",
          "ename": "TypeError",
          "evalue": "ignored",
          "traceback": [
            "\u001b[0;31m---------------------------------------------------------------------------\u001b[0m",
            "\u001b[0;31mTypeError\u001b[0m                                 Traceback (most recent call last)",
            "\u001b[0;32m<ipython-input-60-27f8ccabed0e>\u001b[0m in \u001b[0;36m<module>\u001b[0;34m\u001b[0m\n\u001b[1;32m      3\u001b[0m \u001b[0mmax_\u001b[0m \u001b[0;34m=\u001b[0m \u001b[0mmax\u001b[0m\u001b[0;34m(\u001b[0m\u001b[0mlist_\u001b[0m\u001b[0;34m)\u001b[0m\u001b[0;34m\u001b[0m\u001b[0;34m\u001b[0m\u001b[0m\n\u001b[1;32m      4\u001b[0m \u001b[0msrt_\u001b[0m \u001b[0;34m=\u001b[0m \u001b[0mlist_\u001b[0m\u001b[0;34m.\u001b[0m\u001b[0mremove\u001b[0m\u001b[0;34m(\u001b[0m\u001b[0mmax_\u001b[0m\u001b[0;34m)\u001b[0m\u001b[0;34m\u001b[0m\u001b[0;34m\u001b[0m\u001b[0m\n\u001b[0;32m----> 5\u001b[0;31m \u001b[0;32mfor\u001b[0m \u001b[0mi\u001b[0m \u001b[0;32min\u001b[0m \u001b[0msrt_\u001b[0m\u001b[0;34m:\u001b[0m\u001b[0;34m\u001b[0m\u001b[0;34m\u001b[0m\u001b[0m\n\u001b[0m\u001b[1;32m      6\u001b[0m   \u001b[0;32mif\u001b[0m \u001b[0mi\u001b[0m \u001b[0;34m==\u001b[0m \u001b[0mmax_\u001b[0m\u001b[0;34m:\u001b[0m\u001b[0;34m\u001b[0m\u001b[0;34m\u001b[0m\u001b[0m\n\u001b[1;32m      7\u001b[0m     \u001b[0msrt_\u001b[0m\u001b[0;34m.\u001b[0m\u001b[0mremove\u001b[0m\u001b[0;34m(\u001b[0m\u001b[0mi\u001b[0m\u001b[0;34m)\u001b[0m\u001b[0;34m\u001b[0m\u001b[0;34m\u001b[0m\u001b[0m\n",
            "\u001b[0;31mTypeError\u001b[0m: 'NoneType' object is not iterable"
          ]
        }
      ]
    },
    {
      "cell_type": "code",
      "source": [
        "n = 5\n",
        "list_ = [2,3,6,6,5]\n",
        "max_ = max(list_)\n",
        "max_\n",
        "srt_ = sorted(list_)\n",
        "srt_\n",
        "srt_.pop()\n",
        "for i in list_:\n",
        "   if i == max_:\n",
        "    print(srt_)"
      ],
      "metadata": {
        "colab": {
          "base_uri": "https://localhost:8080/"
        },
        "id": "6mD3wICUHVnl",
        "outputId": "8b3263fd-94c7-4c43-8a9b-6c33b69ecf6d"
      },
      "execution_count": 54,
      "outputs": [
        {
          "output_type": "stream",
          "name": "stdout",
          "text": [
            "[2, 3, 5, 6]\n",
            "[2, 3, 5, 6]\n"
          ]
        }
      ]
    },
    {
      "cell_type": "code",
      "source": [
        "list_\n",
        "list_.pop\n",
        "print(list_)"
      ],
      "metadata": {
        "colab": {
          "base_uri": "https://localhost:8080/"
        },
        "id": "3HFPeGXLIULj",
        "outputId": "324f4da0-5417-4c0f-a629-e6e130cda795"
      },
      "execution_count": 59,
      "outputs": [
        {
          "output_type": "stream",
          "name": "stdout",
          "text": [
            "[2, 3, 6, 6]\n"
          ]
        }
      ]
    },
    {
      "cell_type": "code",
      "source": [
        "n = 5\n",
        "list_ = [2,3,6,6,5]\n",
        "max_ = max(list_)\n",
        "list_2 = []\n",
        "for i in list_:\n",
        "  if i < max_:\n",
        "    list_2.append(i)\n",
        "  elif i < 0:\n",
        "    pass\n",
        "\n",
        "print(max(list_2))"
      ],
      "metadata": {
        "colab": {
          "base_uri": "https://localhost:8080/"
        },
        "id": "8sHP9THqKl8m",
        "outputId": "e2d47d72-e225-4204-aac2-7ca2c07b9dcd"
      },
      "execution_count": 63,
      "outputs": [
        {
          "output_type": "stream",
          "name": "stdout",
          "text": [
            "5\n"
          ]
        }
      ]
    },
    {
      "cell_type": "code",
      "source": [
        "list_ = [-10,-10,-10,-7]\n",
        "list_ = list(set(sorted(list_)))\n",
        "max_ = max(list_)\n",
        "print(list_[(list_.index(max_)-1)])"
      ],
      "metadata": {
        "colab": {
          "base_uri": "https://localhost:8080/"
        },
        "id": "L2eQSH5ILaAd",
        "outputId": "eb27f9b9-6fe1-44af-972d-d1f3a277b67e"
      },
      "execution_count": 112,
      "outputs": [
        {
          "output_type": "stream",
          "name": "stdout",
          "text": [
            "-10\n"
          ]
        }
      ]
    },
    {
      "cell_type": "code",
      "source": [
        "sorted(list_)"
      ],
      "metadata": {
        "colab": {
          "base_uri": "https://localhost:8080/"
        },
        "id": "1IYWwf_1l56F",
        "outputId": "ad11afa0-4b31-4001-de77-d11cf25207f4"
      },
      "execution_count": 106,
      "outputs": [
        {
          "output_type": "execute_result",
          "data": {
            "text/plain": [
              "[-57, 57]"
            ]
          },
          "metadata": {},
          "execution_count": 106
        }
      ]
    },
    {
      "cell_type": "code",
      "source": [
        "max(list_)"
      ],
      "metadata": {
        "colab": {
          "base_uri": "https://localhost:8080/"
        },
        "id": "ucuG8WgaXFir",
        "outputId": "987be49e-c974-4120-8b64-967a1759e799"
      },
      "execution_count": 67,
      "outputs": [
        {
          "output_type": "execute_result",
          "data": {
            "text/plain": [
              "-1"
            ]
          },
          "metadata": {},
          "execution_count": 67
        }
      ]
    },
    {
      "cell_type": "code",
      "source": [
        "n = 3"
      ],
      "metadata": {
        "id": "Pj-_qQl1ibyC"
      },
      "execution_count": 99,
      "outputs": []
    },
    {
      "cell_type": "code",
      "source": [
        "if (n%2 != 0) or (n>=6 and n<=20):\n",
        "  print('Weird')\n",
        "else:\n",
        "  print(\"Not Weird\")\n"
      ],
      "metadata": {
        "colab": {
          "base_uri": "https://localhost:8080/"
        },
        "id": "kOoPW_XfX8LQ",
        "outputId": "7e047c9b-3969-4665-a59a-76c5070a33b8"
      },
      "execution_count": 100,
      "outputs": [
        {
          "output_type": "stream",
          "name": "stdout",
          "text": [
            "Weird\n"
          ]
        }
      ]
    },
    {
      "cell_type": "code",
      "source": [
        "import numpy as np"
      ],
      "metadata": {
        "id": "EIi07sk9b6pI"
      },
      "execution_count": 113,
      "outputs": []
    },
    {
      "cell_type": "code",
      "source": [
        "a = np.full((1,3),5)\n",
        "a"
      ],
      "metadata": {
        "colab": {
          "base_uri": "https://localhost:8080/"
        },
        "id": "NH030iFwpfu0",
        "outputId": "48ad7a95-d827-4e2f-bb53-c3016a4d2544"
      },
      "execution_count": 119,
      "outputs": [
        {
          "output_type": "execute_result",
          "data": {
            "text/plain": [
              "array([[5, 5, 5]])"
            ]
          },
          "metadata": {},
          "execution_count": 119
        }
      ]
    },
    {
      "cell_type": "code",
      "source": [
        "n=12\n",
        "list_ = list(range(n))\n",
        "list_.insert(0,5)\n",
        "list_.insert(1,10)\n",
        "list_.insert(0,6)\n",
        "print(list_)\n",
        "list_.remove(6)\n",
        "list_.append(9)\n",
        "list_.append(1)\n",
        "list_.sort()\n",
        "print(list_)\n",
        "list_.pop(-1)\n",
        "srt_ = sorted(list_,reverse=True)\n",
        "print(srt_)"
      ],
      "metadata": {
        "colab": {
          "base_uri": "https://localhost:8080/"
        },
        "id": "K4djJFWVplVu",
        "outputId": "c245634d-a664-41d3-b4bf-bb9dae2d4d1f"
      },
      "execution_count": 4,
      "outputs": [
        {
          "output_type": "stream",
          "name": "stdout",
          "text": [
            "[6, 5, 10, 0, 1, 2, 3, 4, 5, 6, 7, 8, 9, 10, 11]\n",
            "[0, 1, 1, 2, 3, 4, 5, 5, 6, 7, 8, 9, 9, 10, 10, 11]\n",
            "[10, 10, 9, 9, 8, 7, 6, 5, 5, 4, 3, 2, 1, 1, 0]\n"
          ]
        }
      ]
    },
    {
      "cell_type": "code",
      "source": [
        "n=12\n",
        "r = list(range(12))\n",
        "r"
      ],
      "metadata": {
        "colab": {
          "base_uri": "https://localhost:8080/"
        },
        "id": "PJrRmGprsB6W",
        "outputId": "6a885b0c-022f-4626-adfe-7b16a7ec3ca7"
      },
      "execution_count": 2,
      "outputs": [
        {
          "output_type": "execute_result",
          "data": {
            "text/plain": [
              "[0, 1, 2, 3, 4, 5, 6, 7, 8, 9, 10, 11]"
            ]
          },
          "metadata": {},
          "execution_count": 2
        }
      ]
    },
    {
      "cell_type": "code",
      "source": [
        "txt = \"Hello World\"\n",
        "txt[0]"
      ],
      "metadata": {
        "colab": {
          "base_uri": "https://localhost:8080/",
          "height": 35
        },
        "id": "gfPh9oiRtcvx",
        "outputId": "a685b097-eb85-45a2-ccb5-6ef407d57ef3"
      },
      "execution_count": 5,
      "outputs": [
        {
          "output_type": "execute_result",
          "data": {
            "text/plain": [
              "'H'"
            ],
            "application/vnd.google.colaboratory.intrinsic+json": {
              "type": "string"
            }
          },
          "metadata": {},
          "execution_count": 5
        }
      ]
    },
    {
      "cell_type": "code",
      "source": [
        "txt.strip()"
      ],
      "metadata": {
        "colab": {
          "base_uri": "https://localhost:8080/",
          "height": 35
        },
        "id": "aOMGTb-wzRBw",
        "outputId": "dd86ff3d-3ddd-437a-c406-12e548478988"
      },
      "execution_count": 6,
      "outputs": [
        {
          "output_type": "execute_result",
          "data": {
            "text/plain": [
              "'Hello World'"
            ],
            "application/vnd.google.colaboratory.intrinsic+json": {
              "type": "string"
            }
          },
          "metadata": {},
          "execution_count": 6
        }
      ]
    },
    {
      "cell_type": "code",
      "source": [],
      "metadata": {
        "id": "_T6Ub1a7zq6w"
      },
      "execution_count": null,
      "outputs": []
    }
  ]
}
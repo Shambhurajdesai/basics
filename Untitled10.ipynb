{
  "nbformat": 4,
  "nbformat_minor": 0,
  "metadata": {
    "colab": {
      "provenance": [],
      "authorship_tag": "ABX9TyPmY/lvkanFvoZGRzNyx2m3",
      "include_colab_link": true
    },
    "kernelspec": {
      "name": "python3",
      "display_name": "Python 3"
    },
    "language_info": {
      "name": "python"
    }
  },
  "cells": [
    {
      "cell_type": "markdown",
      "metadata": {
        "id": "view-in-github",
        "colab_type": "text"
      },
      "source": [
        "<a href=\"https://colab.research.google.com/github/Shambhurajdesai/basics/blob/main/Untitled10.ipynb\" target=\"_parent\"><img src=\"https://colab.research.google.com/assets/colab-badge.svg\" alt=\"Open In Colab\"/></a>"
      ]
    },
    {
      "cell_type": "code",
      "execution_count": 3,
      "metadata": {
        "colab": {
          "base_uri": "https://localhost:8080/"
        },
        "id": "coKoMCaXkSxw",
        "outputId": "4f1ceff7-7788-401b-c0fb-9503333a875c"
      },
      "outputs": [
        {
          "output_type": "stream",
          "name": "stdout",
          "text": [
            "[-99, 0, 1, 1, 2, 2, 3, 4, 45, 56, 99, 151]\n"
          ]
        }
      ],
      "source": [
        "#sorting without using sorted method\n",
        "list_ = [ 3,4,56,99,-99,151,45,2,1,0,1,2]\n",
        "n = len(list_)\n",
        "for i in range(n):\n",
        "  for j in range(i+1,n):\n",
        "    if list_[i] > list_[j]:\n",
        "      list_[i],list_[j] = list_[j],list_[i]\n",
        "print(list_)"
      ]
    },
    {
      "cell_type": "code",
      "source": [
        "#switching the elements \n",
        "def switch(list_,pos1,pos2):\n",
        "  list_[pos1],list_[pos2] = list_[pos2],list_[pos1]\n",
        "  return list_"
      ],
      "metadata": {
        "id": "UCOII6ARk7qn"
      },
      "execution_count": 7,
      "outputs": []
    },
    {
      "cell_type": "code",
      "source": [
        "switch(list_,0,-1)"
      ],
      "metadata": {
        "colab": {
          "base_uri": "https://localhost:8080/"
        },
        "id": "cVzf05lAmPHW",
        "outputId": "c1136f47-f0e4-4182-81c3-37693840778e"
      },
      "execution_count": 8,
      "outputs": [
        {
          "output_type": "execute_result",
          "data": {
            "text/plain": [
              "[151, 0, 1, 1, 2, 2, 3, 4, 45, 56, 99, -99]"
            ]
          },
          "metadata": {},
          "execution_count": 8
        }
      ]
    },
    {
      "cell_type": "code",
      "source": [
        "#list comprehension: squaring terms\n",
        "def square(start,end):\n",
        "  squares = [value**2 for value in range(start,end+1)]\n",
        "  return squares\n"
      ],
      "metadata": {
        "id": "riG_546tmSr5"
      },
      "execution_count": 12,
      "outputs": []
    },
    {
      "cell_type": "code",
      "source": [
        "square(0,10)"
      ],
      "metadata": {
        "colab": {
          "base_uri": "https://localhost:8080/"
        },
        "id": "74TKwfZGnE1g",
        "outputId": "a23e3d99-acc3-4754-f098-9bee58d46b5f"
      },
      "execution_count": 13,
      "outputs": [
        {
          "output_type": "execute_result",
          "data": {
            "text/plain": [
              "[0, 1, 4, 9, 16, 25, 36, 49, 64, 81, 100]"
            ]
          },
          "metadata": {},
          "execution_count": 13
        }
      ]
    },
    {
      "cell_type": "code",
      "source": [
        "#check whether the word is Pallindrome or not\n",
        "word = input()\n",
        "result = word[::-1] == -1\n",
        "print(f\"It is {result} that the {word} is Pallindrome word.\")"
      ],
      "metadata": {
        "colab": {
          "base_uri": "https://localhost:8080/"
        },
        "id": "YnUrKnMEonoq",
        "outputId": "d828f032-6b81-4c00-bfc6-aa2064611ca9"
      },
      "execution_count": 14,
      "outputs": [
        {
          "output_type": "stream",
          "name": "stdout",
          "text": [
            "shambhuraj\n",
            "It is False that the shambhuraj is Pallindrome word.\n"
          ]
        }
      ]
    },
    {
      "cell_type": "code",
      "source": [
        "#Check whether the bridge is safe or not\n",
        "bridge = input()\n",
        "result = bridge.find(\" \") == -1\n",
        "print(f'It is {result} that bridge is safe')"
      ],
      "metadata": {
        "colab": {
          "base_uri": "https://localhost:8080/"
        },
        "id": "GBDH4_iUqc-k",
        "outputId": "85c7b604-60d9-4d98-e539-7a4d5e665055"
      },
      "execution_count": 18,
      "outputs": [
        {
          "output_type": "stream",
          "name": "stdout",
          "text": [
            "shambhuraj desai\n",
            "It is False that bridge is safe\n"
          ]
        }
      ]
    },
    {
      "cell_type": "code",
      "source": [],
      "metadata": {
        "id": "RLb7OHP1q12T"
      },
      "execution_count": null,
      "outputs": []
    }
  ]
}
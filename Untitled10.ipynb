{
  "nbformat": 4,
  "nbformat_minor": 0,
  "metadata": {
    "colab": {
      "provenance": [],
      "collapsed_sections": [],
      "authorship_tag": "ABX9TyP/EQLI3wnOLgQfScuwAyle",
      "include_colab_link": true
    },
    "kernelspec": {
      "name": "python3",
      "display_name": "Python 3"
    },
    "language_info": {
      "name": "python"
    }
  },
  "cells": [
    {
      "cell_type": "markdown",
      "metadata": {
        "id": "view-in-github",
        "colab_type": "text"
      },
      "source": [
        "<a href=\"https://colab.research.google.com/github/Shambhurajdesai/basics/blob/main/Untitled10.ipynb\" target=\"_parent\"><img src=\"https://colab.research.google.com/assets/colab-badge.svg\" alt=\"Open In Colab\"/></a>"
      ]
    },
    {
      "cell_type": "code",
      "execution_count": null,
      "metadata": {
        "colab": {
          "base_uri": "https://localhost:8080/"
        },
        "id": "coKoMCaXkSxw",
        "outputId": "4f1ceff7-7788-401b-c0fb-9503333a875c"
      },
      "outputs": [
        {
          "output_type": "stream",
          "name": "stdout",
          "text": [
            "[-99, 0, 1, 1, 2, 2, 3, 4, 45, 56, 99, 151]\n"
          ]
        }
      ],
      "source": [
        "#sorting without using sorted method\n",
        "list_ = [ 3,4,56,99,-99,151,45,2,1,0,1,2]\n",
        "n = len(list_)\n",
        "for i in range(n):\n",
        "  for j in range(i+1,n):\n",
        "    if list_[i] > list_[j]:\n",
        "      list_[i],list_[j] = list_[j],list_[i]\n",
        "print(list_)"
      ]
    },
    {
      "cell_type": "code",
      "source": [
        "#switching the elements \n",
        "def switch(list_,pos1,pos2):\n",
        "  list_[pos1],list_[pos2] = list_[pos2],list_[pos1]\n",
        "  return list_"
      ],
      "metadata": {
        "id": "UCOII6ARk7qn"
      },
      "execution_count": null,
      "outputs": []
    },
    {
      "cell_type": "code",
      "source": [
        "switch(list_,0,-1)"
      ],
      "metadata": {
        "colab": {
          "base_uri": "https://localhost:8080/"
        },
        "id": "cVzf05lAmPHW",
        "outputId": "c1136f47-f0e4-4182-81c3-37693840778e"
      },
      "execution_count": null,
      "outputs": [
        {
          "output_type": "execute_result",
          "data": {
            "text/plain": [
              "[151, 0, 1, 1, 2, 2, 3, 4, 45, 56, 99, -99]"
            ]
          },
          "metadata": {},
          "execution_count": 8
        }
      ]
    },
    {
      "cell_type": "code",
      "source": [
        "#list comprehension: squaring terms\n",
        "def square(start,end):\n",
        "  squares = [value**2 for value in range(start,end+1)]\n",
        "  return squares\n"
      ],
      "metadata": {
        "id": "riG_546tmSr5"
      },
      "execution_count": null,
      "outputs": []
    },
    {
      "cell_type": "code",
      "source": [
        "square(0,10)"
      ],
      "metadata": {
        "colab": {
          "base_uri": "https://localhost:8080/"
        },
        "id": "74TKwfZGnE1g",
        "outputId": "a23e3d99-acc3-4754-f098-9bee58d46b5f"
      },
      "execution_count": null,
      "outputs": [
        {
          "output_type": "execute_result",
          "data": {
            "text/plain": [
              "[0, 1, 4, 9, 16, 25, 36, 49, 64, 81, 100]"
            ]
          },
          "metadata": {},
          "execution_count": 13
        }
      ]
    },
    {
      "cell_type": "code",
      "source": [
        "#check whether the word is Pallindrome or not\n",
        "word = input()\n",
        "result = word[::-1] == -1\n",
        "print(f\"It is {result} that the {word} is Pallindrome word.\")"
      ],
      "metadata": {
        "colab": {
          "base_uri": "https://localhost:8080/"
        },
        "id": "YnUrKnMEonoq",
        "outputId": "d828f032-6b81-4c00-bfc6-aa2064611ca9"
      },
      "execution_count": null,
      "outputs": [
        {
          "output_type": "stream",
          "name": "stdout",
          "text": [
            "shambhuraj\n",
            "It is False that the shambhuraj is Pallindrome word.\n"
          ]
        }
      ]
    },
    {
      "cell_type": "code",
      "source": [
        "#Check whether the bridge is safe or not\n",
        "bridge = input()\n",
        "result = bridge.find(\" \") == -1\n",
        "print(f'It is {result} that bridge is safe')"
      ],
      "metadata": {
        "colab": {
          "base_uri": "https://localhost:8080/"
        },
        "id": "GBDH4_iUqc-k",
        "outputId": "85c7b604-60d9-4d98-e539-7a4d5e665055"
      },
      "execution_count": null,
      "outputs": [
        {
          "output_type": "stream",
          "name": "stdout",
          "text": [
            "shambhuraj desai\n",
            "It is False that bridge is safe\n"
          ]
        }
      ]
    },
    {
      "cell_type": "code",
      "source": [
        "#define a factorial\n",
        "def factorial(n):\n",
        "  f = 1\n",
        "  for i in range(1,n+1):\n",
        "    f = f*i\n",
        "  return f"
      ],
      "metadata": {
        "id": "RLb7OHP1q12T"
      },
      "execution_count": 3,
      "outputs": []
    },
    {
      "cell_type": "code",
      "source": [
        "factorial(5)"
      ],
      "metadata": {
        "colab": {
          "base_uri": "https://localhost:8080/"
        },
        "id": "iVZbgj449nYk",
        "outputId": "7215bc4e-a979-43e6-875f-3bdbd342c231"
      },
      "execution_count": 4,
      "outputs": [
        {
          "output_type": "execute_result",
          "data": {
            "text/plain": [
              "120"
            ]
          },
          "metadata": {},
          "execution_count": 4
        }
      ]
    },
    {
      "cell_type": "code",
      "source": [
        "def C(n,r):\n",
        "  return int(factorial(n)/(factorial(r) * factorial(n-r)))"
      ],
      "metadata": {
        "id": "v85hG5Mr9yIr"
      },
      "execution_count": 28,
      "outputs": []
    },
    {
      "cell_type": "code",
      "source": [
        "def P(n,r):\n",
        "  return int(factorial(n)/factorial(n-r))"
      ],
      "metadata": {
        "id": "JCr6HMqx-OhQ"
      },
      "execution_count": 29,
      "outputs": []
    },
    {
      "cell_type": "code",
      "source": [
        "from itertools import permutations\n",
        "from itertools import combinations"
      ],
      "metadata": {
        "id": "lMNXInbSAQAk"
      },
      "execution_count": 9,
      "outputs": []
    },
    {
      "cell_type": "code",
      "source": [
        "seq = permutations(['a','b','c'])\n",
        "\n",
        "for p in list(seq):\n",
        "  print(p)"
      ],
      "metadata": {
        "colab": {
          "base_uri": "https://localhost:8080/"
        },
        "id": "1IVHh329AvCB",
        "outputId": "874d3a05-3f6f-4f17-811a-0622cd2696fb"
      },
      "execution_count": 10,
      "outputs": [
        {
          "output_type": "stream",
          "name": "stdout",
          "text": [
            "('a', 'b', 'c')\n",
            "('a', 'c', 'b')\n",
            "('b', 'a', 'c')\n",
            "('b', 'c', 'a')\n",
            "('c', 'a', 'b')\n",
            "('c', 'b', 'a')\n"
          ]
        }
      ]
    },
    {
      "cell_type": "code",
      "source": [
        "P(3,3)"
      ],
      "metadata": {
        "colab": {
          "base_uri": "https://localhost:8080/"
        },
        "id": "ZO5Cxlb1BEGM",
        "outputId": "b994a0c7-c374-431e-b860-cd9a82204d01"
      },
      "execution_count": 30,
      "outputs": [
        {
          "output_type": "execute_result",
          "data": {
            "text/plain": [
              "6"
            ]
          },
          "metadata": {},
          "execution_count": 30
        }
      ]
    },
    {
      "cell_type": "code",
      "source": [
        "seq = permutations(['a','b','c'],2)\n",
        "\n",
        "for p in list(seq):\n",
        "  print(p)"
      ],
      "metadata": {
        "colab": {
          "base_uri": "https://localhost:8080/"
        },
        "id": "rSuiGS2UBQF8",
        "outputId": "86050244-d72a-47fb-dfa4-218c7fbdd773"
      },
      "execution_count": 14,
      "outputs": [
        {
          "output_type": "stream",
          "name": "stdout",
          "text": [
            "('a', 'b')\n",
            "('a', 'c')\n",
            "('b', 'a')\n",
            "('b', 'c')\n",
            "('c', 'a')\n",
            "('c', 'b')\n"
          ]
        }
      ]
    },
    {
      "cell_type": "code",
      "source": [
        "P(3,2)"
      ],
      "metadata": {
        "colab": {
          "base_uri": "https://localhost:8080/"
        },
        "id": "UGo3Gr8qB1PS",
        "outputId": "a5af3941-0a48-4a2b-b3f9-b84f9e5e8731"
      },
      "execution_count": 31,
      "outputs": [
        {
          "output_type": "execute_result",
          "data": {
            "text/plain": [
              "6"
            ]
          },
          "metadata": {},
          "execution_count": 31
        }
      ]
    },
    {
      "cell_type": "code",
      "source": [
        "c = combinations(['a','b','c','d'],3)\n",
        "\n",
        "for i in list(c):\n",
        "  print(i)"
      ],
      "metadata": {
        "colab": {
          "base_uri": "https://localhost:8080/"
        },
        "id": "Q9Tm4cRyB4bm",
        "outputId": "e67ee9c9-e630-4844-cc41-ee4059c1f3b1"
      },
      "execution_count": 21,
      "outputs": [
        {
          "output_type": "stream",
          "name": "stdout",
          "text": [
            "('a', 'b', 'c')\n",
            "('a', 'b', 'd')\n",
            "('a', 'c', 'd')\n",
            "('b', 'c', 'd')\n"
          ]
        }
      ]
    },
    {
      "cell_type": "code",
      "source": [
        "C(4,3)"
      ],
      "metadata": {
        "colab": {
          "base_uri": "https://localhost:8080/"
        },
        "id": "i3Xj4lX6COfU",
        "outputId": "8661ded8-4f89-4caf-c7e3-bc7dadba0cb2"
      },
      "execution_count": 32,
      "outputs": [
        {
          "output_type": "execute_result",
          "data": {
            "text/plain": [
              "4"
            ]
          },
          "metadata": {},
          "execution_count": 32
        }
      ]
    },
    {
      "cell_type": "code",
      "source": [],
      "metadata": {
        "id": "EggSiUlYCgy0"
      },
      "execution_count": 25,
      "outputs": []
    }
  ]
}
{
  "nbformat": 4,
  "nbformat_minor": 0,
  "metadata": {
    "colab": {
      "provenance": [],
      "authorship_tag": "ABX9TyPtDzIJFt/Zk4xlo7Ul0r23",
      "include_colab_link": true
    },
    "kernelspec": {
      "name": "python3",
      "display_name": "Python 3"
    },
    "language_info": {
      "name": "python"
    }
  },
  "cells": [
    {
      "cell_type": "markdown",
      "metadata": {
        "id": "view-in-github",
        "colab_type": "text"
      },
      "source": [
        "<a href=\"https://colab.research.google.com/github/Shambhurajdesai/basics/blob/main/Untitled3.ipynb\" target=\"_parent\"><img src=\"https://colab.research.google.com/assets/colab-badge.svg\" alt=\"Open In Colab\"/></a>"
      ]
    },
    {
      "cell_type": "code",
      "execution_count": null,
      "metadata": {
        "id": "tXWLST9wMoiT"
      },
      "outputs": [],
      "source": [
        "# A list containing average daily temperature over 10 days\n",
        "temperatures = [34, 40, 29, 33, 42, 40, 39, 34, 34,33 ]"
      ]
    },
    {
      "cell_type": "code",
      "source": [
        "#Find the unique set of values. Store this in a list\n",
        "unique_temp = list(set(temperatures))"
      ],
      "metadata": {
        "id": "v3JV88vIMypa"
      },
      "execution_count": null,
      "outputs": []
    },
    {
      "cell_type": "code",
      "source": [
        "# Print the unique temperature list\n",
        "print(unique_temp)"
      ],
      "metadata": {
        "colab": {
          "base_uri": "https://localhost:8080/"
        },
        "id": "88UT9SNwM424",
        "outputId": "9f5659a0-d952-486f-afba-6b06b22684cb"
      },
      "execution_count": null,
      "outputs": [
        {
          "output_type": "stream",
          "name": "stdout",
          "text": [
            "[33, 34, 39, 40, 42, 29]\n"
          ]
        }
      ]
    },
    {
      "cell_type": "code",
      "source": [
        "# Create an empty dictionary which will contain the unique temperatures as keys and their counts as values\n",
        "temp_dict = {}\n",
        "\n",
        "first_key = unique_temp[0]\n",
        "temp_dict[first_key] = temperatures.count(first_key)\n",
        "\n",
        "second_key = unique_temp[1]\n",
        "temp_dict[second_key] = temperatures.count(second_key)\n",
        "\n",
        "third_key = unique_temp[2]\n",
        "temp_dict[third_key] = temperatures.count(third_key)\n",
        "\n",
        "fourth_key = unique_temp[3]\n",
        "temp_dict[fourth_key] = temperatures.count(fourth_key)\n",
        "\n",
        "fifth_key = unique_temp[4]\n",
        "temp_dict[fifth_key] = temperatures.count(fifth_key)\n",
        "\n",
        "sixth_key = unique_temp[5]\n",
        "temp_dict[sixth_key] = temperatures.count(sixth_key)\n",
        "\n",
        "\n",
        "temp_dict"
      ],
      "metadata": {
        "colab": {
          "base_uri": "https://localhost:8080/"
        },
        "id": "K5xPMhNWM60R",
        "outputId": "26b83366-e0bf-4ce2-c93e-929e38ab8634"
      },
      "execution_count": null,
      "outputs": [
        {
          "output_type": "execute_result",
          "data": {
            "text/plain": [
              "{33: 2, 34: 3, 39: 1, 40: 2, 42: 1, 29: 1}"
            ]
          },
          "metadata": {},
          "execution_count": 7
        }
      ]
    },
    {
      "cell_type": "code",
      "source": [
        "#  Store the dictionary values in a list\n",
        "list_values = list(temp_dict.values())\n",
        "\n",
        "# Find the index of the most frequent temperature value\n",
        "index_most_freq = list_values.index(max(list_values))\n",
        "index_most_freq"
      ],
      "metadata": {
        "colab": {
          "base_uri": "https://localhost:8080/"
        },
        "id": "6pWs9DvFM7CT",
        "outputId": "b01c91d2-9a34-4a49-bf21-198e27993526"
      },
      "execution_count": null,
      "outputs": [
        {
          "output_type": "execute_result",
          "data": {
            "text/plain": [
              "1"
            ]
          },
          "metadata": {},
          "execution_count": 12
        }
      ]
    },
    {
      "cell_type": "code",
      "source": [
        "#  Create the list of dictionary keys\n",
        "list_of_keys = list(temp_dict.keys())\n",
        "\n",
        "print(list_of_keys)"
      ],
      "metadata": {
        "colab": {
          "base_uri": "https://localhost:8080/"
        },
        "id": "3bWABfhNM7Lp",
        "outputId": "ff3e10d0-2a47-4b55-ec8d-959cb30c20b9"
      },
      "execution_count": null,
      "outputs": [
        {
          "output_type": "stream",
          "name": "stdout",
          "text": [
            "[33, 34, 39, 40, 42, 29]\n"
          ]
        }
      ]
    },
    {
      "cell_type": "code",
      "source": [
        "# Calculate the mode temperature\n",
        "mode_of_temp = list_of_keys[index_most_freq]\n",
        "print(mode_of_temp)"
      ],
      "metadata": {
        "colab": {
          "base_uri": "https://localhost:8080/"
        },
        "id": "n9Ubmn31M7So",
        "outputId": "efaf5bff-6f1f-4cc3-906d-b88aaa7edd7c"
      },
      "execution_count": null,
      "outputs": [
        {
          "output_type": "stream",
          "name": "stdout",
          "text": [
            "34\n"
          ]
        }
      ]
    },
    {
      "cell_type": "code",
      "source": [
        "# Input list of tuples\n",
        "# You need to replace the last element of the last tuple with 100\n",
        "list_of_tuples = [(10,20,30),(30,40,50),(50,60,70)]\n",
        "\n",
        "last_tuple = list_of_tuples[-1]\n",
        "add_ele = last_tuple[:-1]+(100,)\n",
        "output = list_of_tuples[:-1]\n",
        "output.append(add_ele)\n",
        "print(output)"
      ],
      "metadata": {
        "colab": {
          "base_uri": "https://localhost:8080/"
        },
        "id": "3SWRyfDkM7XU",
        "outputId": "2e1da10a-faed-4a8e-aa6f-c4867c2f52b1"
      },
      "execution_count": null,
      "outputs": [
        {
          "output_type": "stream",
          "name": "stdout",
          "text": [
            "[(10, 20, 30), (30, 40, 50), (50, 60, 100)]\n"
          ]
        }
      ]
    },
    {
      "cell_type": "code",
      "source": [
        "# A sample sentence \n",
        "\n",
        "sentence = 'Hello, good morning folks! Today we will announce the half yearly performance results of the company. Due to the ongoing COVID-19 pandemic, our profits have declined by 60% as compared to the last year'\n",
        "\n",
        "# Print your sentence\n",
        "print(sentence)"
      ],
      "metadata": {
        "colab": {
          "base_uri": "https://localhost:8080/"
        },
        "id": "W6eha05qM7al",
        "outputId": "e196c790-7bd1-4d76-c64a-ba33d91bd392"
      },
      "execution_count": null,
      "outputs": [
        {
          "output_type": "stream",
          "name": "stdout",
          "text": [
            "Hello, good morning folks! Today we will announce the half yearly performance results of the company. Due to the ongoing COVID-19 pandemic, our profits have declined by 60% as compared to the last year\n"
          ]
        }
      ]
    },
    {
      "cell_type": "code",
      "source": [
        "sentence = sentence.split(\" \")\n",
        "first_word = list([word[0] for word in sentence])\n",
        "print(first_word)\n"
      ],
      "metadata": {
        "colab": {
          "base_uri": "https://localhost:8080/"
        },
        "id": "T9N7qisASpwO",
        "outputId": "314b76c5-312e-4e0e-8610-6e16c8e64bb9"
      },
      "execution_count": null,
      "outputs": [
        {
          "output_type": "stream",
          "name": "stdout",
          "text": [
            "['H', 'g', 'm', 'f', 'T', 'w', 'w', 'a', 't', 'h', 'y', 'p', 'r', 'o', 't', 'c', 'D', 't', 't', 'o', 'C', 'p', 'o', 'p', 'h', 'd', 'b', '6', 'a', 'c', 't', 't', 'l', 'y']\n"
          ]
        }
      ]
    },
    {
      "cell_type": "code",
      "source": [],
      "metadata": {
        "id": "dbw07y75S89E"
      },
      "execution_count": null,
      "outputs": []
    },
    {
      "cell_type": "code",
      "source": [
        "def factorial(num):\n",
        "  result = 1\n",
        "  if num < 0:\n",
        "   result = print(\"We cannot define factorial value for negative numbers\")\n",
        "  elif num > 0:\n",
        "    for i in range(1,num+1):\n",
        "      result = result*i\n",
        "  else:\n",
        "    result = print(\"The factorial of 0 is 1\")\n",
        "\n",
        "  return result\n"
      ],
      "metadata": {
        "id": "NxJDdb9EUJTq"
      },
      "execution_count": null,
      "outputs": []
    },
    {
      "cell_type": "code",
      "source": [
        "f = factorial(0)\n",
        "f"
      ],
      "metadata": {
        "colab": {
          "base_uri": "https://localhost:8080/"
        },
        "id": "3LWcfM4tY5ye",
        "outputId": "8731a570-acc1-4893-af44-7784c0450cbf"
      },
      "execution_count": null,
      "outputs": [
        {
          "output_type": "stream",
          "name": "stdout",
          "text": [
            "The factorial of 0 is 1\n"
          ]
        }
      ]
    },
    {
      "cell_type": "code",
      "source": [
        "list_of_number = [0,1,-2,3,4,5,6,7,8,9,10]\n",
        "\n",
        "factorial_list = [factorial(number) for number in list_of_number]\n",
        "print(factorial_list)"
      ],
      "metadata": {
        "colab": {
          "base_uri": "https://localhost:8080/"
        },
        "id": "pU0wZQofY9Dz",
        "outputId": "8eeeb027-996c-4208-cc5c-4daea237c03f"
      },
      "execution_count": null,
      "outputs": [
        {
          "output_type": "stream",
          "name": "stdout",
          "text": [
            "The factorial of 0 is 1\n",
            "We cannot define factorial value for negative numbers\n",
            "[None, 1, None, 6, 24, 120, 720, 5040, 40320, 362880, 3628800]\n"
          ]
        }
      ]
    },
    {
      "cell_type": "code",
      "source": [
        "zero = factorial(0)\n",
        "zero"
      ],
      "metadata": {
        "colab": {
          "base_uri": "https://localhost:8080/"
        },
        "id": "ENz0y6BTaUAJ",
        "outputId": "dfc833d8-3573-473d-9131-de5bf313ee63"
      },
      "execution_count": null,
      "outputs": [
        {
          "output_type": "stream",
          "name": "stdout",
          "text": [
            "The factorial of 0 is 1\n"
          ]
        }
      ]
    },
    {
      "cell_type": "code",
      "source": [
        "# Let us write a function which takes a date as a string and prints the quarter as output.\n",
        "# Remember it is not required that functions will return a value. This is an example of such functions\n",
        "\n",
        "def dateQuarter(user_date):\n",
        "  year = user_date[:4]\n",
        "  month = user_date[5:7]\n",
        "\n",
        "  if (month >= '01') & (month <='03'):\n",
        "    quarter = year + '-Q1'\n",
        "  elif (month >='04') & (month <= '06'):\n",
        "    quarter = year + '-Q2'\n",
        "  elif (month >='07') & (month <= '09'):\n",
        "    quarter = year + '-Q3'\n",
        "  else:\n",
        "    quarter = year + '-Q4'\n",
        "  \n",
        "  print(f'The quarter of the given {user_date} is {quarter}')"
      ],
      "metadata": {
        "id": "2MN8vdFPasaB"
      },
      "execution_count": null,
      "outputs": []
    },
    {
      "cell_type": "code",
      "source": [
        "sample_Date = '2020/09/03'\n",
        "date_ = dateQuarter(sample_Date)\n",
        "date_"
      ],
      "metadata": {
        "colab": {
          "base_uri": "https://localhost:8080/"
        },
        "id": "smD6GTNMZu1i",
        "outputId": "07c8efc8-959c-4843-d571-ad8d25d2dbca"
      },
      "execution_count": null,
      "outputs": [
        {
          "output_type": "stream",
          "name": "stdout",
          "text": [
            "The quarter of the given 2020/09/03 is 2020-Q3\n"
          ]
        }
      ]
    },
    {
      "cell_type": "code",
      "source": [
        "def even_odd(num):\n",
        "  if num > 0:\n",
        "    if num%2!=0:\n",
        "      result = \"odd\"\n",
        "    else:\n",
        "      result = \"even\"\n",
        "  elif num == 0:\n",
        "    result = \"Number is Zero\"\n",
        "  else :\n",
        "    result = \"Number is Negative\"\n",
        "  return result\n",
        "\n"
      ],
      "metadata": {
        "id": "Sv6jynr-aIYn"
      },
      "execution_count": null,
      "outputs": []
    },
    {
      "cell_type": "code",
      "source": [
        "number = even_odd(int(input()))\n",
        "number"
      ],
      "metadata": {
        "colab": {
          "base_uri": "https://localhost:8080/",
          "height": 53
        },
        "id": "8_TJ4WFhcGbE",
        "outputId": "48912456-8be1-45a1-9c52-ea0f6cf01918"
      },
      "execution_count": null,
      "outputs": [
        {
          "name": "stdout",
          "output_type": "stream",
          "text": [
            "0\n"
          ]
        },
        {
          "output_type": "execute_result",
          "data": {
            "text/plain": [
              "'Number is Zero'"
            ],
            "application/vnd.google.colaboratory.intrinsic+json": {
              "type": "string"
            }
          },
          "metadata": {},
          "execution_count": 24
        }
      ]
    },
    {
      "cell_type": "code",
      "source": [
        "# In this specific example, the input is a list of numbers. And we have to return the mean \n",
        "# and median of this list of numbers\n",
        "\n",
        "\n",
        "def mean_med(my_list):\n",
        "  mean = sum(my_list)/len(my_list)\n",
        "\n",
        "  sort_ = sorted(my_list)\n",
        "  length_list = len(sort_)\n",
        "\n",
        "  if length_list%2 == 0:\n",
        "    median = (sort_[int(length_list/2)-1] + sort_[int(length_list/2)])/2\n",
        "  else:\n",
        "    median = sort_[int(length_list+1/2)-1]\n",
        "  return mean , median\n",
        "\n",
        "    \n"
      ],
      "metadata": {
        "id": "1_IpRReBcL3j"
      },
      "execution_count": null,
      "outputs": []
    },
    {
      "cell_type": "code",
      "source": [
        "heights =  [172,175,170,168,170,200]\n",
        "\n",
        "a = mean_med(heights)\n",
        "a"
      ],
      "metadata": {
        "colab": {
          "base_uri": "https://localhost:8080/"
        },
        "id": "7yJ23dnuhN4g",
        "outputId": "95c98758-71e2-4fd9-f28d-9481b4d862a0"
      },
      "execution_count": null,
      "outputs": [
        {
          "output_type": "execute_result",
          "data": {
            "text/plain": [
              "(175.83333333333334, 171.0)"
            ]
          },
          "metadata": {},
          "execution_count": 32
        }
      ]
    },
    {
      "cell_type": "code",
      "source": [
        "def add_to_list(my_list,element):\n",
        "\n",
        "  new_list = my_list+[element]\n",
        "  return new_list\n"
      ],
      "metadata": {
        "id": "37cdw-vkhVIR"
      },
      "execution_count": null,
      "outputs": []
    },
    {
      "cell_type": "code",
      "source": [],
      "metadata": {
        "id": "679BjZiBj_UK"
      },
      "execution_count": null,
      "outputs": []
    },
    {
      "cell_type": "code",
      "source": [
        "list_ = [1,2,6,9,5,7,5,4,4,5,4,5,7]"
      ],
      "metadata": {
        "id": "cHBV17bVidoZ"
      },
      "execution_count": null,
      "outputs": []
    },
    {
      "cell_type": "code",
      "source": [
        "a = add_to_list(list_,\"Shambhuraj\")\n",
        "a"
      ],
      "metadata": {
        "colab": {
          "base_uri": "https://localhost:8080/"
        },
        "id": "nHjyRX60ihEi",
        "outputId": "ec11d462-36d7-4f37-e0d6-a6daa4954098"
      },
      "execution_count": null,
      "outputs": [
        {
          "output_type": "execute_result",
          "data": {
            "text/plain": [
              "[1, 2, 6, 9, 5, 7, 5, 4, 4, 5, 4, 5, 7, 'Shambhuraj']"
            ]
          },
          "metadata": {},
          "execution_count": 43
        }
      ]
    },
    {
      "cell_type": "code",
      "source": [],
      "metadata": {
        "id": "d4JcuZT1ipJr"
      },
      "execution_count": null,
      "outputs": []
    },
    {
      "cell_type": "code",
      "source": [
        "# Create your dictionary below with keys as position of the alphabet and the value of the key will be the alphabet itself\n",
        "alphabet_dict = {0:\" \",1:'a', 2:'b', 3:'c', 4:'d', 5:'e', 6:'f', 7:'g', 8:'h',\n",
        "                 9:'i', 10:'j', 11:'k', 12:'l', 13:'m',14:'n', 15:'o', 16:'p', \n",
        "                 17:'q', 18:'r', 19:'s',20:'t', 21:'u', 22:'v', 23:'w', 24:'x', 25:'y', 26:'z'}\n",
        "\n",
        "\n",
        "# Print your dictionary to double check;  any small mistake in numbering can screw up the results\n",
        "print(alphabet_dict)"
      ],
      "metadata": {
        "colab": {
          "base_uri": "https://localhost:8080/"
        },
        "id": "3I8o1MbmH3o6",
        "outputId": "6255d30f-6ee2-40ed-9c03-78df4a96cd97"
      },
      "execution_count": 1,
      "outputs": [
        {
          "output_type": "stream",
          "name": "stdout",
          "text": [
            "{0: ' ', 1: 'a', 2: 'b', 3: 'c', 4: 'd', 5: 'e', 6: 'f', 7: 'g', 8: 'h', 9: 'i', 10: 'j', 11: 'k', 12: 'l', 13: 'm', 14: 'n', 15: 'o', 16: 'p', 17: 'q', 18: 'r', 19: 's', 20: 't', 21: 'u', 22: 'v', 23: 'w', 24: 'x', 25: 'y', 26: 'z'}\n"
          ]
        }
      ]
    },
    {
      "cell_type": "code",
      "source": [
        "# Extract keys and values and store it as lists\n",
        "keys_list = list(alphabet_dict.keys())\n",
        "print(keys_list)\n",
        "values_list = list(alphabet_dict.values())\n",
        "print(values_list)\n",
        "\n",
        "#find the index of given lphabet in values\n",
        "index_ = values_list.index('h')\n",
        "\n",
        "#use this index in list of keys to extract associated key with that value\n",
        "keys_list[index_]"
      ],
      "metadata": {
        "colab": {
          "base_uri": "https://localhost:8080/"
        },
        "id": "KBJW2w4TH4HU",
        "outputId": "86fb4be8-4959-4312-f3cc-47f5c7e78f14"
      },
      "execution_count": 2,
      "outputs": [
        {
          "output_type": "stream",
          "name": "stdout",
          "text": [
            "[0, 1, 2, 3, 4, 5, 6, 7, 8, 9, 10, 11, 12, 13, 14, 15, 16, 17, 18, 19, 20, 21, 22, 23, 24, 25, 26]\n",
            "[' ', 'a', 'b', 'c', 'd', 'e', 'f', 'g', 'h', 'i', 'j', 'k', 'l', 'm', 'n', 'o', 'p', 'q', 'r', 's', 't', 'u', 'v', 'w', 'x', 'y', 'z']\n"
          ]
        },
        {
          "output_type": "execute_result",
          "data": {
            "text/plain": [
              "8"
            ]
          },
          "metadata": {},
          "execution_count": 2
        }
      ]
    },
    {
      "cell_type": "code",
      "source": [
        "#  Store the message in a variable \n",
        "encrypted_message = (\"ajsuydtbe\", \"\", \"wunjbfusnjrgut\", \"uhbhr\", \"oirun\", \"lpef\", \"\", \"vhejsibr\", \"ydtse\", \"qlvuusrntuos\", \"ijwlbutybhlsoaxh\")"
      ],
      "metadata": {
        "id": "w_EbOnFxIAS7"
      },
      "execution_count": 4,
      "outputs": []
    },
    {
      "cell_type": "code",
      "source": [
        "len(encrypted_message)"
      ],
      "metadata": {
        "colab": {
          "base_uri": "https://localhost:8080/"
        },
        "id": "4UU45dFBIFJa",
        "outputId": "2489f5cc-6c3c-4bf6-c44f-ad5c98c6d8bd"
      },
      "execution_count": 5,
      "outputs": [
        {
          "output_type": "execute_result",
          "data": {
            "text/plain": [
              "11"
            ]
          },
          "metadata": {},
          "execution_count": 5
        }
      ]
    },
    {
      "cell_type": "code",
      "source": [
        "# Follow the steps from your solution to problem 1\n",
        "\n",
        "# Create an empty list \n",
        "string_length_list  = []\n",
        "\n",
        "# Append the length of strings of your tuple one by one\n",
        "\n",
        "for word in encrypted_message:\n",
        "  string_length_list.append(len(word))\n",
        "\n",
        "\n",
        "# Print the list of string lengths \n",
        "print(string_length_list)"
      ],
      "metadata": {
        "colab": {
          "base_uri": "https://localhost:8080/"
        },
        "id": "zfxqfYzhIL19",
        "outputId": "6dccf9a0-dad7-430e-e8cb-a0d993e2964f"
      },
      "execution_count": 6,
      "outputs": [
        {
          "output_type": "stream",
          "name": "stdout",
          "text": [
            "[9, 0, 14, 5, 5, 4, 0, 8, 5, 12, 16]\n"
          ]
        }
      ]
    },
    {
      "cell_type": "code",
      "source": [
        "decrypted_msg = \"\"\n",
        "\n",
        "for i in  range(0,len(string_length_list)):\n",
        "  decrypted_msg += alphabet_dict[string_length_list[i]]\n",
        "\n",
        "\n",
        "print(decrypted_msg)"
      ],
      "metadata": {
        "colab": {
          "base_uri": "https://localhost:8080/"
        },
        "id": "PBL3e1IxIWim",
        "outputId": "a25953cb-0110-444c-c8f7-631ac2e28bf2"
      },
      "execution_count": 7,
      "outputs": [
        {
          "output_type": "stream",
          "name": "stdout",
          "text": [
            "i need help\n"
          ]
        }
      ]
    },
    {
      "cell_type": "code",
      "source": [],
      "metadata": {
        "id": "CbndDO7hI_8E"
      },
      "execution_count": null,
      "outputs": []
    }
  ]
}
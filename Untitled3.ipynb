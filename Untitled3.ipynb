{
  "nbformat": 4,
  "nbformat_minor": 0,
  "metadata": {
    "colab": {
      "provenance": [],
      "authorship_tag": "ABX9TyObJku2Eo9t8phYKupGz2hd",
      "include_colab_link": true
    },
    "kernelspec": {
      "name": "python3",
      "display_name": "Python 3"
    },
    "language_info": {
      "name": "python"
    }
  },
  "cells": [
    {
      "cell_type": "markdown",
      "metadata": {
        "id": "view-in-github",
        "colab_type": "text"
      },
      "source": [
        "<a href=\"https://colab.research.google.com/github/Shambhurajdesai/basics/blob/main/Untitled3.ipynb\" target=\"_parent\"><img src=\"https://colab.research.google.com/assets/colab-badge.svg\" alt=\"Open In Colab\"/></a>"
      ]
    },
    {
      "cell_type": "code",
      "execution_count": 1,
      "metadata": {
        "id": "tXWLST9wMoiT"
      },
      "outputs": [],
      "source": [
        "# A list containing average daily temperature over 10 days\n",
        "temperatures = [34, 40, 29, 33, 42, 40, 39, 34, 34,33 ]"
      ]
    },
    {
      "cell_type": "code",
      "source": [
        "# Step 1 : Find the unique set of values. Store this in a list\n",
        "unique_temp = list(set(temperatures))"
      ],
      "metadata": {
        "id": "v3JV88vIMypa"
      },
      "execution_count": 2,
      "outputs": []
    },
    {
      "cell_type": "code",
      "source": [
        "# Print the unique temperature list\n",
        "print(unique_temp)"
      ],
      "metadata": {
        "colab": {
          "base_uri": "https://localhost:8080/"
        },
        "id": "88UT9SNwM424",
        "outputId": "9f5659a0-d952-486f-afba-6b06b22684cb"
      },
      "execution_count": 3,
      "outputs": [
        {
          "output_type": "stream",
          "name": "stdout",
          "text": [
            "[33, 34, 39, 40, 42, 29]\n"
          ]
        }
      ]
    },
    {
      "cell_type": "code",
      "source": [
        "# Step 2 : Create an empty dictionary which will contain the unique temperatures as keys and their counts as values\n",
        "temp_dict = {}\n",
        "\n",
        "first_key = unique_temp[0]\n",
        "temp_dict[first_key] = temperatures.count(first_key)\n",
        "\n",
        "second_key = unique_temp[1]\n",
        "temp_dict[second_key] = temperatures.count(second_key)\n",
        "\n",
        "third_key = unique_temp[2]\n",
        "temp_dict[third_key] = temperatures.count(third_key)\n",
        "\n",
        "fourth_key = unique_temp[3]\n",
        "temp_dict[fourth_key] = temperatures.count(fourth_key)\n",
        "\n",
        "fifth_key = unique_temp[4]\n",
        "temp_dict[fifth_key] = temperatures.count(fifth_key)\n",
        "\n",
        "sixth_key = unique_temp[5]\n",
        "temp_dict[sixth_key] = temperatures.count(sixth_key)\n",
        "\n",
        "\n",
        "temp_dict"
      ],
      "metadata": {
        "colab": {
          "base_uri": "https://localhost:8080/"
        },
        "id": "K5xPMhNWM60R",
        "outputId": "26b83366-e0bf-4ce2-c93e-929e38ab8634"
      },
      "execution_count": 7,
      "outputs": [
        {
          "output_type": "execute_result",
          "data": {
            "text/plain": [
              "{33: 2, 34: 3, 39: 1, 40: 2, 42: 1, 29: 1}"
            ]
          },
          "metadata": {},
          "execution_count": 7
        }
      ]
    },
    {
      "cell_type": "code",
      "source": [
        "# Step 3: Store the dictionary values in a list\n",
        "list_values = list(temp_dict.values())\n",
        "\n",
        "# Find the index of the most frequent temperature value\n",
        "index_most_freq = list_values.index(max(list_values))\n",
        "index_most_freq"
      ],
      "metadata": {
        "colab": {
          "base_uri": "https://localhost:8080/"
        },
        "id": "6pWs9DvFM7CT",
        "outputId": "b01c91d2-9a34-4a49-bf21-198e27993526"
      },
      "execution_count": 12,
      "outputs": [
        {
          "output_type": "execute_result",
          "data": {
            "text/plain": [
              "1"
            ]
          },
          "metadata": {},
          "execution_count": 12
        }
      ]
    },
    {
      "cell_type": "code",
      "source": [],
      "metadata": {
        "id": "3bWABfhNM7Lp"
      },
      "execution_count": null,
      "outputs": []
    },
    {
      "cell_type": "code",
      "source": [],
      "metadata": {
        "id": "n9Ubmn31M7So"
      },
      "execution_count": null,
      "outputs": []
    },
    {
      "cell_type": "code",
      "source": [],
      "metadata": {
        "id": "3SWRyfDkM7XU"
      },
      "execution_count": null,
      "outputs": []
    },
    {
      "cell_type": "code",
      "source": [],
      "metadata": {
        "id": "W6eha05qM7al"
      },
      "execution_count": null,
      "outputs": []
    }
  ]
}
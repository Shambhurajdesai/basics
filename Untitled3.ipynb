{
  "nbformat": 4,
  "nbformat_minor": 0,
  "metadata": {
    "colab": {
      "provenance": [],
      "authorship_tag": "ABX9TyNVFUocrcN03CHiDl1W/Q6+",
      "include_colab_link": true
    },
    "kernelspec": {
      "name": "python3",
      "display_name": "Python 3"
    },
    "language_info": {
      "name": "python"
    }
  },
  "cells": [
    {
      "cell_type": "markdown",
      "metadata": {
        "id": "view-in-github",
        "colab_type": "text"
      },
      "source": [
        "<a href=\"https://colab.research.google.com/github/Shambhurajdesai/basics/blob/main/Untitled3.ipynb\" target=\"_parent\"><img src=\"https://colab.research.google.com/assets/colab-badge.svg\" alt=\"Open In Colab\"/></a>"
      ]
    },
    {
      "cell_type": "code",
      "execution_count": 1,
      "metadata": {
        "id": "tXWLST9wMoiT"
      },
      "outputs": [],
      "source": [
        "# A list containing average daily temperature over 10 days\n",
        "temperatures = [34, 40, 29, 33, 42, 40, 39, 34, 34,33 ]"
      ]
    },
    {
      "cell_type": "code",
      "source": [
        "#Find the unique set of values. Store this in a list\n",
        "unique_temp = list(set(temperatures))"
      ],
      "metadata": {
        "id": "v3JV88vIMypa"
      },
      "execution_count": 2,
      "outputs": []
    },
    {
      "cell_type": "code",
      "source": [
        "# Print the unique temperature list\n",
        "print(unique_temp)"
      ],
      "metadata": {
        "colab": {
          "base_uri": "https://localhost:8080/"
        },
        "id": "88UT9SNwM424",
        "outputId": "9f5659a0-d952-486f-afba-6b06b22684cb"
      },
      "execution_count": 3,
      "outputs": [
        {
          "output_type": "stream",
          "name": "stdout",
          "text": [
            "[33, 34, 39, 40, 42, 29]\n"
          ]
        }
      ]
    },
    {
      "cell_type": "code",
      "source": [
        "# Create an empty dictionary which will contain the unique temperatures as keys and their counts as values\n",
        "temp_dict = {}\n",
        "\n",
        "first_key = unique_temp[0]\n",
        "temp_dict[first_key] = temperatures.count(first_key)\n",
        "\n",
        "second_key = unique_temp[1]\n",
        "temp_dict[second_key] = temperatures.count(second_key)\n",
        "\n",
        "third_key = unique_temp[2]\n",
        "temp_dict[third_key] = temperatures.count(third_key)\n",
        "\n",
        "fourth_key = unique_temp[3]\n",
        "temp_dict[fourth_key] = temperatures.count(fourth_key)\n",
        "\n",
        "fifth_key = unique_temp[4]\n",
        "temp_dict[fifth_key] = temperatures.count(fifth_key)\n",
        "\n",
        "sixth_key = unique_temp[5]\n",
        "temp_dict[sixth_key] = temperatures.count(sixth_key)\n",
        "\n",
        "\n",
        "temp_dict"
      ],
      "metadata": {
        "colab": {
          "base_uri": "https://localhost:8080/"
        },
        "id": "K5xPMhNWM60R",
        "outputId": "26b83366-e0bf-4ce2-c93e-929e38ab8634"
      },
      "execution_count": 7,
      "outputs": [
        {
          "output_type": "execute_result",
          "data": {
            "text/plain": [
              "{33: 2, 34: 3, 39: 1, 40: 2, 42: 1, 29: 1}"
            ]
          },
          "metadata": {},
          "execution_count": 7
        }
      ]
    },
    {
      "cell_type": "code",
      "source": [
        "#  Store the dictionary values in a list\n",
        "list_values = list(temp_dict.values())\n",
        "\n",
        "# Find the index of the most frequent temperature value\n",
        "index_most_freq = list_values.index(max(list_values))\n",
        "index_most_freq"
      ],
      "metadata": {
        "colab": {
          "base_uri": "https://localhost:8080/"
        },
        "id": "6pWs9DvFM7CT",
        "outputId": "b01c91d2-9a34-4a49-bf21-198e27993526"
      },
      "execution_count": 12,
      "outputs": [
        {
          "output_type": "execute_result",
          "data": {
            "text/plain": [
              "1"
            ]
          },
          "metadata": {},
          "execution_count": 12
        }
      ]
    },
    {
      "cell_type": "code",
      "source": [
        "#  Create the list of dictionary keys\n",
        "list_of_keys = list(temp_dict.keys())\n",
        "\n",
        "print(list_of_keys)"
      ],
      "metadata": {
        "colab": {
          "base_uri": "https://localhost:8080/"
        },
        "id": "3bWABfhNM7Lp",
        "outputId": "ff3e10d0-2a47-4b55-ec8d-959cb30c20b9"
      },
      "execution_count": 14,
      "outputs": [
        {
          "output_type": "stream",
          "name": "stdout",
          "text": [
            "[33, 34, 39, 40, 42, 29]\n"
          ]
        }
      ]
    },
    {
      "cell_type": "code",
      "source": [
        "# Calculate the mode temperature\n",
        "mode_of_temp = list_of_keys[index_most_freq]\n",
        "print(mode_of_temp)"
      ],
      "metadata": {
        "colab": {
          "base_uri": "https://localhost:8080/"
        },
        "id": "n9Ubmn31M7So",
        "outputId": "efaf5bff-6f1f-4cc3-906d-b88aaa7edd7c"
      },
      "execution_count": 17,
      "outputs": [
        {
          "output_type": "stream",
          "name": "stdout",
          "text": [
            "34\n"
          ]
        }
      ]
    },
    {
      "cell_type": "code",
      "source": [
        "# Input list of tuples\n",
        "# You need to replace the last element of the last tuple with 100\n",
        "list_of_tuples = [(10,20,30),(30,40,50),(50,60,70)]\n",
        "\n",
        "last_tuple = list_of_tuples[-1]\n",
        "add_ele = last_tuple[:-1]+(100,)\n",
        "output = list_of_tuples[:-1]\n",
        "output.append(add_ele)\n",
        "print(output)"
      ],
      "metadata": {
        "colab": {
          "base_uri": "https://localhost:8080/"
        },
        "id": "3SWRyfDkM7XU",
        "outputId": "2e1da10a-faed-4a8e-aa6f-c4867c2f52b1"
      },
      "execution_count": 26,
      "outputs": [
        {
          "output_type": "stream",
          "name": "stdout",
          "text": [
            "[(10, 20, 30), (30, 40, 50), (50, 60, 100)]\n"
          ]
        }
      ]
    },
    {
      "cell_type": "code",
      "source": [
        "# A sample sentence \n",
        "\n",
        "sentence = 'Hello, good morning folks! Today we will announce the half yearly performance results of the company. Due to the ongoing COVID-19 pandemic, our profits have declined by 60% as compared to the last year'\n",
        "\n",
        "# Print your sentence\n",
        "print(sentence)"
      ],
      "metadata": {
        "colab": {
          "base_uri": "https://localhost:8080/"
        },
        "id": "W6eha05qM7al",
        "outputId": "e196c790-7bd1-4d76-c64a-ba33d91bd392"
      },
      "execution_count": 31,
      "outputs": [
        {
          "output_type": "stream",
          "name": "stdout",
          "text": [
            "Hello, good morning folks! Today we will announce the half yearly performance results of the company. Due to the ongoing COVID-19 pandemic, our profits have declined by 60% as compared to the last year\n"
          ]
        }
      ]
    },
    {
      "cell_type": "code",
      "source": [
        "sentence = sentence.split(\" \")\n",
        "first_word = list([word[0] for word in sentence])\n",
        "print(first_word)\n"
      ],
      "metadata": {
        "colab": {
          "base_uri": "https://localhost:8080/"
        },
        "id": "T9N7qisASpwO",
        "outputId": "314b76c5-312e-4e0e-8610-6e16c8e64bb9"
      },
      "execution_count": 32,
      "outputs": [
        {
          "output_type": "stream",
          "name": "stdout",
          "text": [
            "['H', 'g', 'm', 'f', 'T', 'w', 'w', 'a', 't', 'h', 'y', 'p', 'r', 'o', 't', 'c', 'D', 't', 't', 'o', 'C', 'p', 'o', 'p', 'h', 'd', 'b', '6', 'a', 'c', 't', 't', 'l', 'y']\n"
          ]
        }
      ]
    },
    {
      "cell_type": "code",
      "source": [],
      "metadata": {
        "id": "dbw07y75S89E"
      },
      "execution_count": 35,
      "outputs": []
    },
    {
      "cell_type": "code",
      "source": [
        "def factorial(num):\n",
        "  if num < 0:\n",
        "    print(\"We cannot define factorial value for negative numbers\")\n",
        "  elif num > 0:\n",
        "    result = 1\n",
        "    for i in range(1,num+1):\n",
        "      result = result*i\n",
        "  else:\n",
        "    print(\"The factorial of 0 is 1\")\n",
        "\n",
        "  return result\n"
      ],
      "metadata": {
        "id": "NxJDdb9EUJTq"
      },
      "execution_count": 36,
      "outputs": []
    },
    {
      "cell_type": "code",
      "source": [
        "f = factorial(5)\n",
        "f"
      ],
      "metadata": {
        "colab": {
          "base_uri": "https://localhost:8080/"
        },
        "id": "3LWcfM4tY5ye",
        "outputId": "36df7266-ce40-40ee-d5f8-728c1b9e32f1"
      },
      "execution_count": 39,
      "outputs": [
        {
          "output_type": "execute_result",
          "data": {
            "text/plain": [
              "120"
            ]
          },
          "metadata": {},
          "execution_count": 39
        }
      ]
    },
    {
      "cell_type": "code",
      "source": [],
      "metadata": {
        "id": "pU0wZQofY9Dz"
      },
      "execution_count": null,
      "outputs": []
    }
  ]
}
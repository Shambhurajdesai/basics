{
  "nbformat": 4,
  "nbformat_minor": 0,
  "metadata": {
    "colab": {
      "provenance": [],
      "authorship_tag": "ABX9TyPU46VBQEqjXWYP3Uww0vsh",
      "include_colab_link": true
    },
    "kernelspec": {
      "name": "python3",
      "display_name": "Python 3"
    },
    "language_info": {
      "name": "python"
    }
  },
  "cells": [
    {
      "cell_type": "markdown",
      "metadata": {
        "id": "view-in-github",
        "colab_type": "text"
      },
      "source": [
        "<a href=\"https://colab.research.google.com/github/Shambhurajdesai/basics/blob/main/Untitled16.ipynb\" target=\"_parent\"><img src=\"https://colab.research.google.com/assets/colab-badge.svg\" alt=\"Open In Colab\"/></a>"
      ]
    },
    {
      "cell_type": "code",
      "execution_count": 1,
      "metadata": {
        "id": "JYJOsPOeBzLY"
      },
      "outputs": [],
      "source": [
        "\n",
        "def print_full_name(first, last):\n",
        "    return (f'Hello {first, last}! Yo just developed into python.')\n"
      ]
    },
    {
      "cell_type": "code",
      "source": [
        "string = \"ABCDBCD\"\n",
        "sub_string = \"BCD\""
      ],
      "metadata": {
        "id": "lLkoDIR7B1zX"
      },
      "execution_count": 3,
      "outputs": []
    },
    {
      "cell_type": "code",
      "source": [
        "def count_substring(string, sub_string):\n",
        "  count = 0\n",
        "  ml = len(string)\n",
        "  sl = len(sub_string)\n",
        "  for i in range(ml-sl+1):\n",
        "    if (string[i:(i+sl)] == sub_string):\n",
        "      count = count+1\n",
        "  return count"
      ],
      "metadata": {
        "id": "rvPHiQaNB6QK"
      },
      "execution_count": 9,
      "outputs": []
    },
    {
      "cell_type": "code",
      "source": [
        "count_substring(string,sub_string)"
      ],
      "metadata": {
        "colab": {
          "base_uri": "https://localhost:8080/"
        },
        "id": "J7gK7Nr4QfsM",
        "outputId": "4e30941a-b862-4696-c646-b2cdf980e4d7"
      },
      "execution_count": 10,
      "outputs": [
        {
          "output_type": "execute_result",
          "data": {
            "text/plain": [
              "2"
            ]
          },
          "metadata": {},
          "execution_count": 10
        }
      ]
    },
    {
      "cell_type": "code",
      "source": [],
      "metadata": {
        "id": "Lvf9z2b5QmF6"
      },
      "execution_count": null,
      "outputs": []
    }
  ]
}
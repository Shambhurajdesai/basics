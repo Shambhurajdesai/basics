{
  "nbformat": 4,
  "nbformat_minor": 0,
  "metadata": {
    "colab": {
      "provenance": [],
      "authorship_tag": "ABX9TyNrUIZu31KrjG81mZ8nUn7R",
      "include_colab_link": true
    },
    "kernelspec": {
      "name": "python3",
      "display_name": "Python 3"
    },
    "language_info": {
      "name": "python"
    }
  },
  "cells": [
    {
      "cell_type": "markdown",
      "metadata": {
        "id": "view-in-github",
        "colab_type": "text"
      },
      "source": [
        "<a href=\"https://colab.research.google.com/github/Shambhurajdesai/basics/blob/main/Untitled4.ipynb\" target=\"_parent\"><img src=\"https://colab.research.google.com/assets/colab-badge.svg\" alt=\"Open In Colab\"/></a>"
      ]
    },
    {
      "cell_type": "code",
      "execution_count": null,
      "metadata": {
        "id": "IbvSG_8kWyuy"
      },
      "outputs": [],
      "source": [
        "# \n",
        "def get_excel_col_number(column_name):\n",
        "  list_of_nums = list(range(1,27,1))\n",
        "  alphabets = \"abcdefghijklmnopqrstuvwxyz\"\n",
        "  alphabets_list = [char.upper() for char in alphabets]\n",
        "  alphabet_num_dict = dict(zip(alphabets_list,list_of_nums))\n",
        "\n",
        "  multiplier = 1\n",
        "  colNum = 0\n",
        "\n",
        "  for letter in column_name[::-1]:\n",
        "    print(letter)\n",
        "    print(alphabet_num_dict[letter])\n",
        "    colNum = colNum + alphabet_num_dict[letter] * multiplier\n",
        "    print(colNum)\n",
        "    multiplier = multiplier * 26\n",
        "    print(multiplier)\n",
        "  return colNum \n"
      ]
    },
    {
      "cell_type": "code",
      "source": [
        "# character_dict = dict(zip(alphabets_list ,list_of_nums))"
      ],
      "metadata": {
        "id": "gX6qaO1MX_wc"
      },
      "execution_count": null,
      "outputs": []
    },
    {
      "cell_type": "code",
      "source": [
        "get_excel_col_number('AB')"
      ],
      "metadata": {
        "colab": {
          "base_uri": "https://localhost:8080/"
        },
        "id": "_gbOvtt_YK01",
        "outputId": "aa4d4929-60d4-493f-9998-1840f9cf55f9"
      },
      "execution_count": null,
      "outputs": [
        {
          "output_type": "stream",
          "name": "stdout",
          "text": [
            "B\n",
            "2\n",
            "2\n",
            "26\n",
            "A\n",
            "1\n",
            "28\n",
            "676\n"
          ]
        },
        {
          "output_type": "execute_result",
          "data": {
            "text/plain": [
              "28"
            ]
          },
          "metadata": {},
          "execution_count": 12
        }
      ]
    },
    {
      "cell_type": "code",
      "source": [
        "get_excel_col_number('ABCD')"
      ],
      "metadata": {
        "colab": {
          "base_uri": "https://localhost:8080/"
        },
        "id": "IGvjiRwcamB_",
        "outputId": "cb322fc9-5844-4157-ed88-82703ddc6408"
      },
      "execution_count": null,
      "outputs": [
        {
          "output_type": "stream",
          "name": "stdout",
          "text": [
            "D\n",
            "4\n",
            "4\n",
            "26\n",
            "C\n",
            "3\n",
            "82\n",
            "676\n",
            "B\n",
            "2\n",
            "1434\n",
            "17576\n",
            "A\n",
            "1\n",
            "19010\n",
            "456976\n"
          ]
        },
        {
          "output_type": "execute_result",
          "data": {
            "text/plain": [
              "19010"
            ]
          },
          "metadata": {},
          "execution_count": 13
        }
      ]
    },
    {
      "cell_type": "code",
      "source": [],
      "metadata": {
        "id": "PjZby90xbuta"
      },
      "execution_count": null,
      "outputs": []
    },
    {
      "cell_type": "code",
      "source": [],
      "metadata": {
        "id": "LPDUdGEIb5Dx"
      },
      "execution_count": null,
      "outputs": []
    },
    {
      "cell_type": "code",
      "source": [
        "actual_labels = ['Cat','Dog','Cat','Cat','Dog','Cat','Dog','Cat','Cat','Cat','Dog','Dog','Cat','Cat','Cat','Dog','Dog','Dog','Cat','Dog']"
      ],
      "metadata": {
        "id": "MXcKjGCab5RM"
      },
      "execution_count": null,
      "outputs": []
    },
    {
      "cell_type": "code",
      "source": [
        "predicted_labels = ['Cat','Dog','Cat','Cat','Dog','Cat','Dog','Cat','Dog','Dog','Dog','Dog','Cat','Cat','Cat','Dog','Dog','Dog','Cat','Cat']"
      ],
      "metadata": {
        "id": "e5kbwfxjb6HU"
      },
      "execution_count": null,
      "outputs": []
    },
    {
      "cell_type": "code",
      "source": [
        "def accuracy(actual,predict):\n",
        "\n",
        "  zipped_list = zip(actual,predict)\n",
        "  correct_prediction = sum([1 for act,pred in zipped_list if act == pred ])\n",
        "  length = len(actual)\n",
        "\n",
        "  accuracy = correct_prediction*100/length\n",
        "  return accuracy"
      ],
      "metadata": {
        "id": "08T1cwLqb7vC"
      },
      "execution_count": null,
      "outputs": []
    },
    {
      "cell_type": "code",
      "source": [
        "accuracy(actual_labels,predicted_labels)"
      ],
      "metadata": {
        "colab": {
          "base_uri": "https://localhost:8080/"
        },
        "id": "k3SDs4hac9tL",
        "outputId": "d7ecbd80-3865-439d-e639-ccb7a450f29c"
      },
      "execution_count": null,
      "outputs": [
        {
          "output_type": "execute_result",
          "data": {
            "text/plain": [
              "85.0"
            ]
          },
          "metadata": {},
          "execution_count": 19
        }
      ]
    },
    {
      "cell_type": "code",
      "source": [
        "def precise(label = str(input())):\n",
        "  actual_c = actual_labels.count(label)\n",
        "  predict_c = predicted_labels.count(label)\n",
        "\n",
        "  zipped = list(zip(actual_labels,predicted_labels))\n",
        "\n",
        "  correct_prediction = 0\n",
        "  for act,pred in zipped:\n",
        "    if (act==label) & (pred==label):\n",
        "      correct_prediction +=1\n",
        "\n",
        "  precision = correct_prediction*100/predict_c\n",
        "\n",
        "  recall = correct_prediction*100/actual_c\n",
        "\n",
        "  return precision,recall\n"
      ],
      "metadata": {
        "colab": {
          "base_uri": "https://localhost:8080/"
        },
        "id": "_AYdy8fUdD1B",
        "outputId": "4f9655c1-3cdd-4bca-9bfd-73d73bbd2f40"
      },
      "execution_count": null,
      "outputs": [
        {
          "name": "stdout",
          "output_type": "stream",
          "text": [
            "Dog\n"
          ]
        }
      ]
    },
    {
      "cell_type": "code",
      "source": [
        "precise(label=str(input()))"
      ],
      "metadata": {
        "colab": {
          "base_uri": "https://localhost:8080/"
        },
        "id": "c__en4bUfVql",
        "outputId": "f05c53a8-a566-45a3-aa26-77d741950819"
      },
      "execution_count": null,
      "outputs": [
        {
          "name": "stdout",
          "output_type": "stream",
          "text": [
            "Cat\n"
          ]
        },
        {
          "output_type": "execute_result",
          "data": {
            "text/plain": [
              "(90.0, 81.81818181818181)"
            ]
          },
          "metadata": {},
          "execution_count": 25
        }
      ]
    },
    {
      "cell_type": "code",
      "source": [
        "def length_word(sentence,length=3):\n",
        "  sentence = sentence.replace(',','').replace('.','')\n",
        "  list_of_words = sentence.split(\" \")\n",
        "  for i in list_of_words:\n",
        "    if len(i)==length:\n",
        "      print(i)\n",
        "\n"
      ],
      "metadata": {
        "id": "vKNUBu79fnPS"
      },
      "execution_count": null,
      "outputs": []
    },
    {
      "cell_type": "code",
      "source": [
        "marvel_quote = \"The world has changed Shambhuraj and none of us can go back. All we can do is our best, and sometimes the best that we can do is to start over.\""
      ],
      "metadata": {
        "id": "V8_C3WD7kZAp"
      },
      "execution_count": null,
      "outputs": []
    },
    {
      "cell_type": "code",
      "source": [
        "length_word(marvel_quote,length=10)"
      ],
      "metadata": {
        "colab": {
          "base_uri": "https://localhost:8080/"
        },
        "id": "ljAFsTPwkoh5",
        "outputId": "351b1f05-6cee-4451-88ee-0b568de9fba0"
      },
      "execution_count": null,
      "outputs": [
        {
          "output_type": "stream",
          "name": "stdout",
          "text": [
            "Shambhuraj\n"
          ]
        }
      ]
    },
    {
      "cell_type": "code",
      "source": [
        "def makeAnagram(a,b):\n",
        "  str1 = a\n",
        "  str2 = b\n",
        "\n",
        "  CHARS = 26\n",
        "\n",
        "  count1 = [0]*26\n",
        "  count2 = [0]*26\n",
        "\n",
        "  i = 0\n",
        "  while i < len(str1):\n",
        "    count1[ord(str1[i]) - ord('a')] += 1\n",
        "    i += 1\n",
        "  i = 0\n",
        "  while i < len(str2):\n",
        "    count2[ord(str2[i]) - ord('a')] +=1\n",
        "    i += 1\n",
        "\n",
        "  result = 0\n",
        "  for i in range(26):\n",
        "    result += abs(count1[i] - count2[i])\n",
        "  return result\n"
      ],
      "metadata": {
        "id": "owlaBp5Cku2q"
      },
      "execution_count": 7,
      "outputs": []
    },
    {
      "cell_type": "code",
      "source": [
        "makeAnagram('bca','bcd')"
      ],
      "metadata": {
        "colab": {
          "base_uri": "https://localhost:8080/"
        },
        "id": "Tt0G4xQkLa-R",
        "outputId": "92e8ad7c-58e7-4ca4-bd93-7b24d9df25fa"
      },
      "execution_count": 8,
      "outputs": [
        {
          "output_type": "execute_result",
          "data": {
            "text/plain": [
              "2"
            ]
          },
          "metadata": {},
          "execution_count": 8
        }
      ]
    },
    {
      "cell_type": "code",
      "source": [],
      "metadata": {
        "id": "8OxaZRMtMPfQ"
      },
      "execution_count": null,
      "outputs": []
    }
  ]
}
{
  "nbformat": 4,
  "nbformat_minor": 0,
  "metadata": {
    "colab": {
      "provenance": [],
      "authorship_tag": "ABX9TyOKvvwX+Sx/A1PVUlKauclp",
      "include_colab_link": true
    },
    "kernelspec": {
      "name": "python3",
      "display_name": "Python 3"
    },
    "language_info": {
      "name": "python"
    }
  },
  "cells": [
    {
      "cell_type": "markdown",
      "metadata": {
        "id": "view-in-github",
        "colab_type": "text"
      },
      "source": [
        "<a href=\"https://colab.research.google.com/github/Shambhurajdesai/basics/blob/main/Untitled4.ipynb\" target=\"_parent\"><img src=\"https://colab.research.google.com/assets/colab-badge.svg\" alt=\"Open In Colab\"/></a>"
      ]
    },
    {
      "cell_type": "code",
      "execution_count": 9,
      "metadata": {
        "id": "IbvSG_8kWyuy"
      },
      "outputs": [],
      "source": [
        "# \n",
        "def get_excel_col_number(column_name):\n",
        "  list_of_nums = list(range(1,27,1))\n",
        "  alphabets = \"abcdefghijklmnopqrstuvwxyz\"\n",
        "  alphabets_list = [char.upper() for char in alphabets]\n",
        "  alphabet_num_dict = dict(zip(alphabets_list,list_of_nums))\n",
        "\n",
        "  multiplier = 1\n",
        "  colNum = 0\n",
        "\n",
        "  for letter in column_name[::-1]:\n",
        "    print(letter)\n",
        "    print(alphabet_num_dict[letter])\n",
        "    colNum = colNum + alphabet_num_dict[letter] * multiplier\n",
        "    print(colNum)\n",
        "    multiplier = multiplier * 26\n",
        "    print(multiplier)\n",
        "  return colNum \n"
      ]
    },
    {
      "cell_type": "code",
      "source": [
        "# character_dict = dict(zip(alphabets_list ,list_of_nums))"
      ],
      "metadata": {
        "id": "gX6qaO1MX_wc"
      },
      "execution_count": 6,
      "outputs": []
    },
    {
      "cell_type": "code",
      "source": [
        "get_excel_col_number('AB')"
      ],
      "metadata": {
        "colab": {
          "base_uri": "https://localhost:8080/"
        },
        "id": "_gbOvtt_YK01",
        "outputId": "aa4d4929-60d4-493f-9998-1840f9cf55f9"
      },
      "execution_count": 12,
      "outputs": [
        {
          "output_type": "stream",
          "name": "stdout",
          "text": [
            "B\n",
            "2\n",
            "2\n",
            "26\n",
            "A\n",
            "1\n",
            "28\n",
            "676\n"
          ]
        },
        {
          "output_type": "execute_result",
          "data": {
            "text/plain": [
              "28"
            ]
          },
          "metadata": {},
          "execution_count": 12
        }
      ]
    },
    {
      "cell_type": "code",
      "source": [
        "get_excel_col_number('ABCD')"
      ],
      "metadata": {
        "colab": {
          "base_uri": "https://localhost:8080/"
        },
        "id": "IGvjiRwcamB_",
        "outputId": "cb322fc9-5844-4157-ed88-82703ddc6408"
      },
      "execution_count": 13,
      "outputs": [
        {
          "output_type": "stream",
          "name": "stdout",
          "text": [
            "D\n",
            "4\n",
            "4\n",
            "26\n",
            "C\n",
            "3\n",
            "82\n",
            "676\n",
            "B\n",
            "2\n",
            "1434\n",
            "17576\n",
            "A\n",
            "1\n",
            "19010\n",
            "456976\n"
          ]
        },
        {
          "output_type": "execute_result",
          "data": {
            "text/plain": [
              "19010"
            ]
          },
          "metadata": {},
          "execution_count": 13
        }
      ]
    },
    {
      "cell_type": "code",
      "source": [],
      "metadata": {
        "id": "PjZby90xbuta"
      },
      "execution_count": 13,
      "outputs": []
    },
    {
      "cell_type": "code",
      "source": [],
      "metadata": {
        "id": "LPDUdGEIb5Dx"
      },
      "execution_count": null,
      "outputs": []
    },
    {
      "cell_type": "code",
      "source": [
        "actual_labels = ['Cat','Dog','Cat','Cat','Dog','Cat','Dog','Cat','Cat','Cat','Dog','Dog','Cat','Cat','Cat','Dog','Dog','Dog','Cat','Dog']"
      ],
      "metadata": {
        "id": "MXcKjGCab5RM"
      },
      "execution_count": 14,
      "outputs": []
    },
    {
      "cell_type": "code",
      "source": [
        "predicted_labels = ['Cat','Dog','Cat','Cat','Dog','Cat','Dog','Cat','Dog','Dog','Dog','Dog','Cat','Cat','Cat','Dog','Dog','Dog','Cat','Cat']"
      ],
      "metadata": {
        "id": "e5kbwfxjb6HU"
      },
      "execution_count": 15,
      "outputs": []
    },
    {
      "cell_type": "code",
      "source": [
        "def accuracy(actual,predict):\n",
        "\n",
        "  zipped_list = zip(actual,predict)\n",
        "  correct_prediction = sum([1 for act,pred in zipped_list if act == pred ])\n",
        "  length = len(actual)\n",
        "\n",
        "  accuracy = correct_prediction*100/length\n",
        "  return accuracy"
      ],
      "metadata": {
        "id": "08T1cwLqb7vC"
      },
      "execution_count": 18,
      "outputs": []
    },
    {
      "cell_type": "code",
      "source": [
        "accuracy(actual_labels,predicted_labels)"
      ],
      "metadata": {
        "colab": {
          "base_uri": "https://localhost:8080/"
        },
        "id": "k3SDs4hac9tL",
        "outputId": "d7ecbd80-3865-439d-e639-ccb7a450f29c"
      },
      "execution_count": 19,
      "outputs": [
        {
          "output_type": "execute_result",
          "data": {
            "text/plain": [
              "85.0"
            ]
          },
          "metadata": {},
          "execution_count": 19
        }
      ]
    },
    {
      "cell_type": "code",
      "source": [
        "def precise(label = str(input())):\n",
        "  actual_c = actual_labels.count(label)\n",
        "  predict_c = predicted_labels.count(label)\n",
        "\n",
        "  zipped = list(zip(actual_labels,predicted_labels))\n",
        "\n",
        "  correct_prediction = 0\n",
        "  for act,pred in zipped:\n",
        "    if (act==label) & (pred==label):\n",
        "      correct_prediction +=1\n",
        "\n",
        "  precision = correct_prediction*100/predict_c\n",
        "\n",
        "  recall = correct_prediction*100/actual_c\n",
        "\n",
        "  return precision,recall\n"
      ],
      "metadata": {
        "colab": {
          "base_uri": "https://localhost:8080/"
        },
        "id": "_AYdy8fUdD1B",
        "outputId": "4f9655c1-3cdd-4bca-9bfd-73d73bbd2f40"
      },
      "execution_count": 20,
      "outputs": [
        {
          "name": "stdout",
          "output_type": "stream",
          "text": [
            "Dog\n"
          ]
        }
      ]
    },
    {
      "cell_type": "code",
      "source": [
        "precise(label=str(input()))"
      ],
      "metadata": {
        "colab": {
          "base_uri": "https://localhost:8080/"
        },
        "id": "c__en4bUfVql",
        "outputId": "f05c53a8-a566-45a3-aa26-77d741950819"
      },
      "execution_count": 25,
      "outputs": [
        {
          "name": "stdout",
          "output_type": "stream",
          "text": [
            "Cat\n"
          ]
        },
        {
          "output_type": "execute_result",
          "data": {
            "text/plain": [
              "(90.0, 81.81818181818181)"
            ]
          },
          "metadata": {},
          "execution_count": 25
        }
      ]
    },
    {
      "cell_type": "code",
      "source": [],
      "metadata": {
        "id": "vKNUBu79fnPS"
      },
      "execution_count": 25,
      "outputs": []
    }
  ]
}
{
  "nbformat": 4,
  "nbformat_minor": 0,
  "metadata": {
    "colab": {
      "provenance": [],
      "authorship_tag": "ABX9TyOA65rOALDEM5/mbb5xEAr0",
      "include_colab_link": true
    },
    "kernelspec": {
      "name": "python3",
      "display_name": "Python 3"
    },
    "language_info": {
      "name": "python"
    }
  },
  "cells": [
    {
      "cell_type": "markdown",
      "metadata": {
        "id": "view-in-github",
        "colab_type": "text"
      },
      "source": [
        "<a href=\"https://colab.research.google.com/github/Shambhurajdesai/basics/blob/main/Untitled6.ipynb\" target=\"_parent\"><img src=\"https://colab.research.google.com/assets/colab-badge.svg\" alt=\"Open In Colab\"/></a>"
      ]
    },
    {
      "cell_type": "code",
      "execution_count": 15,
      "metadata": {
        "id": "IAXQifEKhn3Z"
      },
      "outputs": [],
      "source": [
        "a = \"Shambhuraj\""
      ]
    },
    {
      "cell_type": "code",
      "source": [
        "a.find('a')"
      ],
      "metadata": {
        "colab": {
          "base_uri": "https://localhost:8080/"
        },
        "id": "5KL8idowhyMy",
        "outputId": "82b6b4d3-35eb-4e70-8b6f-2db8213c912d"
      },
      "execution_count": 2,
      "outputs": [
        {
          "output_type": "execute_result",
          "data": {
            "text/plain": [
              "2"
            ]
          },
          "metadata": {},
          "execution_count": 2
        }
      ]
    },
    {
      "cell_type": "code",
      "source": [
        "a.find('S')"
      ],
      "metadata": {
        "colab": {
          "base_uri": "https://localhost:8080/"
        },
        "id": "Nxc95iV0h2PI",
        "outputId": "6f2b21c4-4d64-488f-b3df-b35538bc6eb1"
      },
      "execution_count": 4,
      "outputs": [
        {
          "output_type": "execute_result",
          "data": {
            "text/plain": [
              "0"
            ]
          },
          "metadata": {},
          "execution_count": 4
        }
      ]
    },
    {
      "cell_type": "code",
      "source": [
        "a.find('s')"
      ],
      "metadata": {
        "colab": {
          "base_uri": "https://localhost:8080/"
        },
        "id": "8pVQT90Th6qz",
        "outputId": "b3f96552-1d3f-4387-9c6b-9f963fda38de"
      },
      "execution_count": 5,
      "outputs": [
        {
          "output_type": "execute_result",
          "data": {
            "text/plain": [
              "-1"
            ]
          },
          "metadata": {},
          "execution_count": 5
        }
      ]
    },
    {
      "cell_type": "code",
      "source": [
        "a.count('a')"
      ],
      "metadata": {
        "colab": {
          "base_uri": "https://localhost:8080/"
        },
        "id": "--_NFtmNiAHP",
        "outputId": "08dfe6c4-9863-49e6-ba7b-5eb40c45564f"
      },
      "execution_count": 6,
      "outputs": [
        {
          "output_type": "execute_result",
          "data": {
            "text/plain": [
              "2"
            ]
          },
          "metadata": {},
          "execution_count": 6
        }
      ]
    },
    {
      "cell_type": "code",
      "source": [
        "print(a[-1])"
      ],
      "metadata": {
        "colab": {
          "base_uri": "https://localhost:8080/"
        },
        "id": "KphG9WxFiClT",
        "outputId": "927e430c-e31b-45c2-a384-1f4e22ef58c6"
      },
      "execution_count": 8,
      "outputs": [
        {
          "output_type": "stream",
          "name": "stdout",
          "text": [
            "j\n"
          ]
        }
      ]
    },
    {
      "cell_type": "code",
      "source": [
        "print(a[1:6])"
      ],
      "metadata": {
        "colab": {
          "base_uri": "https://localhost:8080/"
        },
        "id": "nTqvh_d2iGvH",
        "outputId": "7f684e0d-2454-485c-d653-0fbc3c4cf23c"
      },
      "execution_count": 9,
      "outputs": [
        {
          "output_type": "stream",
          "name": "stdout",
          "text": [
            "hambh\n"
          ]
        }
      ]
    },
    {
      "cell_type": "code",
      "source": [
        "len(a)"
      ],
      "metadata": {
        "colab": {
          "base_uri": "https://localhost:8080/"
        },
        "id": "pYj6qL0UiL5U",
        "outputId": "a96b8518-468a-426e-9004-cce4c6397d12"
      },
      "execution_count": 10,
      "outputs": [
        {
          "output_type": "execute_result",
          "data": {
            "text/plain": [
              "10"
            ]
          },
          "metadata": {},
          "execution_count": 10
        }
      ]
    },
    {
      "cell_type": "code",
      "source": [
        "a.lower(),a.upper(),a.title()"
      ],
      "metadata": {
        "colab": {
          "base_uri": "https://localhost:8080/"
        },
        "id": "BI2pORU-iOlr",
        "outputId": "98c83a98-21db-46af-9b48-8949970efeb3"
      },
      "execution_count": 11,
      "outputs": [
        {
          "output_type": "execute_result",
          "data": {
            "text/plain": [
              "('shambhuraj', 'SHAMBHURAJ', 'Shambhuraj')"
            ]
          },
          "metadata": {},
          "execution_count": 11
        }
      ]
    },
    {
      "cell_type": "code",
      "source": [
        "a.find('a',0,9)"
      ],
      "metadata": {
        "colab": {
          "base_uri": "https://localhost:8080/"
        },
        "id": "8Ox3TjgViToU",
        "outputId": "e9f7d6f2-8418-415e-d323-6f056d9b47be"
      },
      "execution_count": 12,
      "outputs": [
        {
          "output_type": "execute_result",
          "data": {
            "text/plain": [
              "2"
            ]
          },
          "metadata": {},
          "execution_count": 12
        }
      ]
    },
    {
      "cell_type": "code",
      "source": [
        "a.replace('a','A')"
      ],
      "metadata": {
        "colab": {
          "base_uri": "https://localhost:8080/",
          "height": 35
        },
        "id": "4Gs9lu18ikOw",
        "outputId": "f47776eb-42bf-42c4-eae6-37c647bcc771"
      },
      "execution_count": 17,
      "outputs": [
        {
          "output_type": "execute_result",
          "data": {
            "text/plain": [
              "'ShAmbhurAj'"
            ],
            "application/vnd.google.colaboratory.intrinsic+json": {
              "type": "string"
            }
          },
          "metadata": {},
          "execution_count": 17
        }
      ]
    },
    {
      "cell_type": "code",
      "source": [
        "a"
      ],
      "metadata": {
        "colab": {
          "base_uri": "https://localhost:8080/",
          "height": 35
        },
        "id": "POfuQjPuiyOj",
        "outputId": "fc32722a-a056-4f58-f957-afae57d93407"
      },
      "execution_count": 18,
      "outputs": [
        {
          "output_type": "execute_result",
          "data": {
            "text/plain": [
              "'Shambhuraj'"
            ],
            "application/vnd.google.colaboratory.intrinsic+json": {
              "type": "string"
            }
          },
          "metadata": {},
          "execution_count": 18
        }
      ]
    },
    {
      "cell_type": "code",
      "source": [
        "list_ = list(a)\n",
        "list_"
      ],
      "metadata": {
        "colab": {
          "base_uri": "https://localhost:8080/"
        },
        "id": "roftA9I3i3Ij",
        "outputId": "d9e7fd1d-52e9-47a1-bdc0-ebed4f9a6ca3"
      },
      "execution_count": 20,
      "outputs": [
        {
          "output_type": "execute_result",
          "data": {
            "text/plain": [
              "['S', 'h', 'a', 'm', 'b', 'h', 'u', 'r', 'a', 'j']"
            ]
          },
          "metadata": {},
          "execution_count": 20
        }
      ]
    },
    {
      "cell_type": "code",
      "source": [
        "list_1 = [a]\n",
        "list_1"
      ],
      "metadata": {
        "colab": {
          "base_uri": "https://localhost:8080/"
        },
        "id": "Lmm8t8usjfKN",
        "outputId": "2b728b67-06e5-4dfe-b2af-d6969f4f0d1b"
      },
      "execution_count": 22,
      "outputs": [
        {
          "output_type": "execute_result",
          "data": {
            "text/plain": [
              "['Shambhuraj']"
            ]
          },
          "metadata": {},
          "execution_count": 22
        }
      ]
    },
    {
      "cell_type": "code",
      "source": [
        "list_2 = ['string',2.3,1,True,list(range(1,10,1))]\n",
        "list_2"
      ],
      "metadata": {
        "colab": {
          "base_uri": "https://localhost:8080/"
        },
        "id": "B1zcC4TZjjbH",
        "outputId": "a302c040-9643-4aca-8508-eafb4c23151d"
      },
      "execution_count": 23,
      "outputs": [
        {
          "output_type": "execute_result",
          "data": {
            "text/plain": [
              "['string', 2.3, 1, True, [1, 2, 3, 4, 5, 6, 7, 8, 9]]"
            ]
          },
          "metadata": {},
          "execution_count": 23
        }
      ]
    },
    {
      "cell_type": "code",
      "source": [
        "list_2[-1][5] = 'MY name is'\n",
        "list_2"
      ],
      "metadata": {
        "colab": {
          "base_uri": "https://localhost:8080/"
        },
        "id": "GxjlpYwtkVJK",
        "outputId": "974a5390-7394-44c0-a548-f208b02bf071"
      },
      "execution_count": 28,
      "outputs": [
        {
          "output_type": "execute_result",
          "data": {
            "text/plain": [
              "['string', 2.3, 1, True, [1, 2, 3, 4, 5, 'MY name is', 7, 8, 9]]"
            ]
          },
          "metadata": {},
          "execution_count": 28
        }
      ]
    },
    {
      "cell_type": "code",
      "source": [
        "print(type(list_2[4]))"
      ],
      "metadata": {
        "colab": {
          "base_uri": "https://localhost:8080/"
        },
        "id": "2dlIJwzlkXqa",
        "outputId": "3d220466-409f-49ea-efff-5ed7f3a44e3a"
      },
      "execution_count": 35,
      "outputs": [
        {
          "output_type": "stream",
          "name": "stdout",
          "text": [
            "<class 'list'>\n"
          ]
        }
      ]
    },
    {
      "cell_type": "code",
      "source": [
        "abcd = list(set(range(1,10)))"
      ],
      "metadata": {
        "id": "F37_CKZ7knr1"
      },
      "execution_count": 39,
      "outputs": []
    },
    {
      "cell_type": "code",
      "source": [
        "list_3 = list_2 + abcd\n",
        "print(list_3)"
      ],
      "metadata": {
        "colab": {
          "base_uri": "https://localhost:8080/"
        },
        "id": "w-oZReDKk88e",
        "outputId": "c9d50fbc-e38c-4c55-8146-e94c11ec194a"
      },
      "execution_count": 42,
      "outputs": [
        {
          "output_type": "stream",
          "name": "stdout",
          "text": [
            "['string', 2.3, 1, True, [1, 2, 3, 4, 5, 'MY name is', 7, 8, 9], 1, 2, 3, 4, 5, 6, 7, 8, 9]\n"
          ]
        }
      ]
    },
    {
      "cell_type": "code",
      "source": [
        "list_3[4][-4] = 6\n",
        "print(list_3)"
      ],
      "metadata": {
        "colab": {
          "base_uri": "https://localhost:8080/"
        },
        "id": "7e0Qu0bSlRi-",
        "outputId": "fe92fba4-5421-4777-e21c-41db2ae6818a"
      },
      "execution_count": 48,
      "outputs": [
        {
          "output_type": "stream",
          "name": "stdout",
          "text": [
            "['string', 2.3, 1, True, [1, 2, 3, 4, 5, 6, 7, 8, 9], 1, 2, 3, 4, 5, 6, 7, 8, 9]\n"
          ]
        }
      ]
    },
    {
      "cell_type": "code",
      "source": [],
      "metadata": {
        "id": "wjaBfDG2ld2T"
      },
      "execution_count": 50,
      "outputs": []
    },
    {
      "cell_type": "code",
      "source": [
        "list_3.append('shambhuraj desai')"
      ],
      "metadata": {
        "id": "3HgZ9qmel7Tp"
      },
      "execution_count": 51,
      "outputs": []
    },
    {
      "cell_type": "code",
      "source": [
        "print(list_3)"
      ],
      "metadata": {
        "colab": {
          "base_uri": "https://localhost:8080/"
        },
        "id": "m1vYn6qDmVPq",
        "outputId": "9389bff1-0e58-4f99-ff62-3c7bc94a1a26"
      },
      "execution_count": 53,
      "outputs": [
        {
          "output_type": "stream",
          "name": "stdout",
          "text": [
            "['string', 2.3, 1, True, [1, 2, 3, 4, 5, 6, 7, 8, 9], 1, 2, 3, 4, 5, 6, 7, 8, 9, 'shambhuraj desai']\n"
          ]
        }
      ]
    },
    {
      "cell_type": "code",
      "source": [
        "list_3.extend('Kolhapur')\n",
        "print(list_3)"
      ],
      "metadata": {
        "colab": {
          "base_uri": "https://localhost:8080/"
        },
        "id": "DlpzJK1CmWNj",
        "outputId": "1ee10ade-fd8e-46cd-96dd-fde00ceb98df"
      },
      "execution_count": 56,
      "outputs": [
        {
          "output_type": "stream",
          "name": "stdout",
          "text": [
            "['string', 2.3, 1, True, [1, 2, 3, 4, 5, 6, 7, 8, 9], 1, 2, 3, 4, 5, 6, 7, 8, 9, 'shambhuraj desai', 'K', 'o', 'l', 'h', 'a', 'p', 'u', 'r', 'K', 'o', 'l', 'h', 'a', 'p', 'u', 'r', 'K', 'o', 'l', 'h', 'a', 'p', 'u', 'r']\n"
          ]
        }
      ]
    },
    {
      "cell_type": "code",
      "source": [
        "list_3.extend(list_2)"
      ],
      "metadata": {
        "id": "tf3F8u-zmut5"
      },
      "execution_count": 57,
      "outputs": []
    },
    {
      "cell_type": "code",
      "source": [
        "print(list_3)"
      ],
      "metadata": {
        "colab": {
          "base_uri": "https://localhost:8080/"
        },
        "id": "azz0SE5anG-J",
        "outputId": "2e4db13d-4bb9-4a6c-9773-0347f5fbff02"
      },
      "execution_count": 58,
      "outputs": [
        {
          "output_type": "stream",
          "name": "stdout",
          "text": [
            "['string', 2.3, 1, True, [1, 2, 3, 4, 5, 6, 7, 8, 9], 1, 2, 3, 4, 5, 6, 7, 8, 9, 'shambhuraj desai', 'K', 'o', 'l', 'h', 'a', 'p', 'u', 'r', 'K', 'o', 'l', 'h', 'a', 'p', 'u', 'r', 'K', 'o', 'l', 'h', 'a', 'p', 'u', 'r', 'string', 2.3, 1, True, [1, 2, 3, 4, 5, 6, 7, 8, 9]]\n"
          ]
        }
      ]
    },
    {
      "cell_type": "code",
      "source": [
        "len(list_3)"
      ],
      "metadata": {
        "colab": {
          "base_uri": "https://localhost:8080/"
        },
        "id": "G5LOL_Y2nJEO",
        "outputId": "daff2ddf-8aca-45f3-a532-dd309e20ce51"
      },
      "execution_count": 59,
      "outputs": [
        {
          "output_type": "execute_result",
          "data": {
            "text/plain": [
              "44"
            ]
          },
          "metadata": {},
          "execution_count": 59
        }
      ]
    },
    {
      "cell_type": "code",
      "source": [
        "list_3.extend(['KOlhapur'])"
      ],
      "metadata": {
        "id": "Tgwvv0ANnNQs"
      },
      "execution_count": 60,
      "outputs": []
    },
    {
      "cell_type": "code",
      "source": [
        "print(list_3)"
      ],
      "metadata": {
        "colab": {
          "base_uri": "https://localhost:8080/"
        },
        "id": "MX7oia4sncls",
        "outputId": "f130bc01-decb-4153-fb79-f997ae321540"
      },
      "execution_count": 62,
      "outputs": [
        {
          "output_type": "stream",
          "name": "stdout",
          "text": [
            "['string', 2.3, 1, True, [1, 2, 3, 4, 5, 6, 7, 8, 9], 1, 2, 3, 4, 5, 6, 7, 8, 9, 'shambhuraj desai', 'K', 'o', 'l', 'h', 'a', 'p', 'u', 'r', 'K', 'o', 'l', 'h', 'a', 'p', 'u', 'r', 'K', 'o', 'l', 'h', 'a', 'p', 'u', 'r', 'string', 2.3, 1, True, [1, 2, 3, 4, 5, 6, 7, 8, 9], 'KOlhapur']\n"
          ]
        }
      ]
    },
    {
      "cell_type": "code",
      "source": [
        "list_3.insert(0,\"AJARA\")"
      ],
      "metadata": {
        "id": "A-waXxNxneEw"
      },
      "execution_count": 63,
      "outputs": []
    },
    {
      "cell_type": "code",
      "source": [
        "print(list_3)"
      ],
      "metadata": {
        "colab": {
          "base_uri": "https://localhost:8080/"
        },
        "id": "yZxZJudnoDEZ",
        "outputId": "4d3bde69-b8b1-402e-dff6-5ae666240e75"
      },
      "execution_count": 66,
      "outputs": [
        {
          "output_type": "stream",
          "name": "stdout",
          "text": [
            "['AJARA', 'string', 2.3, 1, True, [1, 2, 3, 4, 5, 6, 7, 8, 9], 1, 2, 3, 4, 5, 6, 7, 8, 9, 'shambhuraj desai', 'K', 'o', 'l', 'h', 'a', 'p', 'u', 'r', 'K', 'o', 'l', 'h', 'a', 'p', 'u', 'r', 'K', 'o', 'l', 'h', 'a', 'p', 'u', 'r', 'string', 2.3, 1, True, [1, 2, 3, 4, 5, 6, 7, 8, 9], 'KOlhapur']\n"
          ]
        }
      ]
    },
    {
      "cell_type": "code",
      "source": [
        "list_3.pop(0)"
      ],
      "metadata": {
        "colab": {
          "base_uri": "https://localhost:8080/",
          "height": 35
        },
        "id": "xzSTVnQApaal",
        "outputId": "f8bee4b0-7f7b-4bbe-b62a-ec647d87e0b8"
      },
      "execution_count": 72,
      "outputs": [
        {
          "output_type": "execute_result",
          "data": {
            "text/plain": [
              "'AJARA'"
            ],
            "application/vnd.google.colaboratory.intrinsic+json": {
              "type": "string"
            }
          },
          "metadata": {},
          "execution_count": 72
        }
      ]
    },
    {
      "cell_type": "code",
      "source": [
        "list_3.pop()\n"
      ],
      "metadata": {
        "colab": {
          "base_uri": "https://localhost:8080/"
        },
        "id": "wIaE1O1XoEG1",
        "outputId": "3dd18263-c234-415c-a7e0-525e174beb51"
      },
      "execution_count": 74,
      "outputs": [
        {
          "output_type": "execute_result",
          "data": {
            "text/plain": [
              "[1, 2, 3, 4, 5, 6, 7, 8, 9]"
            ]
          },
          "metadata": {},
          "execution_count": 74
        }
      ]
    },
    {
      "cell_type": "code",
      "source": [
        "list_3.remove('string')"
      ],
      "metadata": {
        "id": "oIPc4YF0oW6u"
      },
      "execution_count": 75,
      "outputs": []
    },
    {
      "cell_type": "code",
      "source": [
        "list_3.count(1)"
      ],
      "metadata": {
        "colab": {
          "base_uri": "https://localhost:8080/"
        },
        "id": "5UJ4l-d0qOiq",
        "outputId": "48b6517a-6ca9-4df5-c757-36016e6300c8"
      },
      "execution_count": 77,
      "outputs": [
        {
          "output_type": "execute_result",
          "data": {
            "text/plain": [
              "5"
            ]
          },
          "metadata": {},
          "execution_count": 77
        }
      ]
    },
    {
      "cell_type": "code",
      "source": [
        "list_3.index('shambhuraj desai')"
      ],
      "metadata": {
        "colab": {
          "base_uri": "https://localhost:8080/"
        },
        "id": "1i0eSZPluiul",
        "outputId": "88bd8c25-9a21-4f7c-dace-d1555b0a2a76"
      },
      "execution_count": 78,
      "outputs": [
        {
          "output_type": "execute_result",
          "data": {
            "text/plain": [
              "13"
            ]
          },
          "metadata": {},
          "execution_count": 78
        }
      ]
    },
    {
      "cell_type": "code",
      "source": [
        "t = ()"
      ],
      "metadata": {
        "id": "CaQS_WBMuvDK"
      },
      "execution_count": 79,
      "outputs": []
    },
    {
      "cell_type": "code",
      "source": [
        "type(t)"
      ],
      "metadata": {
        "colab": {
          "base_uri": "https://localhost:8080/"
        },
        "id": "byUBa6tWwGOH",
        "outputId": "6bf35d9b-e4a1-4f68-8a64-4354fdc3dd31"
      },
      "execution_count": 80,
      "outputs": [
        {
          "output_type": "execute_result",
          "data": {
            "text/plain": [
              "tuple"
            ]
          },
          "metadata": {},
          "execution_count": 80
        }
      ]
    },
    {
      "cell_type": "code",
      "source": [
        "t1=(1,)"
      ],
      "metadata": {
        "id": "A8IYnCxhwH3b"
      },
      "execution_count": 81,
      "outputs": []
    },
    {
      "cell_type": "code",
      "source": [
        "t = t +t1\n",
        "t"
      ],
      "metadata": {
        "colab": {
          "base_uri": "https://localhost:8080/"
        },
        "id": "HBf8ElWXwMPY",
        "outputId": "74076e94-ad02-4c87-c405-6e3adbab2a49"
      },
      "execution_count": 84,
      "outputs": [
        {
          "output_type": "execute_result",
          "data": {
            "text/plain": [
              "(1, 1)"
            ]
          },
          "metadata": {},
          "execution_count": 84
        }
      ]
    },
    {
      "cell_type": "code",
      "source": [
        "my_tuple = (1,\"string\",2.3,True)"
      ],
      "metadata": {
        "id": "OSMmGgBMwRUr"
      },
      "execution_count": 85,
      "outputs": []
    },
    {
      "cell_type": "code",
      "source": [
        "my_tuple + (10,)"
      ],
      "metadata": {
        "colab": {
          "base_uri": "https://localhost:8080/"
        },
        "id": "xZU6PvqGz78k",
        "outputId": "1e9f0a79-83f1-4943-85ee-91b5464368a6"
      },
      "execution_count": 90,
      "outputs": [
        {
          "output_type": "execute_result",
          "data": {
            "text/plain": [
              "(1, 'string', 2.3, True, 10)"
            ]
          },
          "metadata": {},
          "execution_count": 90
        }
      ]
    },
    {
      "cell_type": "code",
      "source": [
        "my_tuple = (1,2,'string',list(range(0,5,1)))\n",
        "print(my_tuple)"
      ],
      "metadata": {
        "colab": {
          "base_uri": "https://localhost:8080/"
        },
        "id": "Q09pf0HFz-FA",
        "outputId": "50595895-3f0c-4c69-af22-4c5178b419c3"
      },
      "execution_count": 91,
      "outputs": [
        {
          "output_type": "stream",
          "name": "stdout",
          "text": [
            "(1, 2, 'string', [0, 1, 2, 3, 4])\n"
          ]
        }
      ]
    },
    {
      "cell_type": "code",
      "source": [
        "my_tuple[-1][0]= 99\n",
        "my_tuple"
      ],
      "metadata": {
        "colab": {
          "base_uri": "https://localhost:8080/"
        },
        "id": "U_cA_2yF0Up8",
        "outputId": "c3eeba58-0433-483e-8deb-04594d91f94e"
      },
      "execution_count": 93,
      "outputs": [
        {
          "output_type": "execute_result",
          "data": {
            "text/plain": [
              "(1, 2, 'string', [99, 1, 2, 3, 4])"
            ]
          },
          "metadata": {},
          "execution_count": 93
        }
      ]
    },
    {
      "cell_type": "code",
      "source": [
        "my_tuple + ({\"l\":66},)"
      ],
      "metadata": {
        "colab": {
          "base_uri": "https://localhost:8080/"
        },
        "id": "MGva1tln0ayi",
        "outputId": "101dc46f-1123-4c74-fcbc-5c9cfd893628"
      },
      "execution_count": 94,
      "outputs": [
        {
          "output_type": "execute_result",
          "data": {
            "text/plain": [
              "(1, 2, 'string', [99, 1, 2, 3, 4], {'l': 66})"
            ]
          },
          "metadata": {},
          "execution_count": 94
        }
      ]
    },
    {
      "cell_type": "code",
      "source": [
        "set_ = {9,10,11,65,45,1,1,2,3,4,5,6,4,5,6,8}\n",
        "print(set_)"
      ],
      "metadata": {
        "colab": {
          "base_uri": "https://localhost:8080/"
        },
        "id": "Juv1fj-l02c9",
        "outputId": "f16c5cd4-8b9b-40ef-884f-bf0723f2dc7b"
      },
      "execution_count": 95,
      "outputs": [
        {
          "output_type": "stream",
          "name": "stdout",
          "text": [
            "{65, 1, 2, 3, 4, 5, 6, 8, 9, 10, 11, 45}\n"
          ]
        }
      ]
    },
    {
      "cell_type": "code",
      "source": [
        "set(list(sorted(set_)))"
      ],
      "metadata": {
        "colab": {
          "base_uri": "https://localhost:8080/"
        },
        "id": "r7fnarEg1Tkz",
        "outputId": "b3d2a476-6978-47f4-fbc0-4e665dfffa90"
      },
      "execution_count": 97,
      "outputs": [
        {
          "output_type": "execute_result",
          "data": {
            "text/plain": [
              "{1, 2, 3, 4, 5, 6, 8, 9, 10, 11, 45, 65}"
            ]
          },
          "metadata": {},
          "execution_count": 97
        }
      ]
    },
    {
      "cell_type": "code",
      "source": [
        "set(list(set_.sort()))"
      ],
      "metadata": {
        "colab": {
          "base_uri": "https://localhost:8080/",
          "height": 167
        },
        "id": "XfUyNlbG1YPO",
        "outputId": "97575d01-cd4c-4f6a-8034-37ae9551d56d"
      },
      "execution_count": 100,
      "outputs": [
        {
          "output_type": "error",
          "ename": "AttributeError",
          "evalue": "ignored",
          "traceback": [
            "\u001b[0;31m---------------------------------------------------------------------------\u001b[0m",
            "\u001b[0;31mAttributeError\u001b[0m                            Traceback (most recent call last)",
            "\u001b[0;32m<ipython-input-100-cfb63510b0ce>\u001b[0m in \u001b[0;36m<module>\u001b[0;34m\u001b[0m\n\u001b[0;32m----> 1\u001b[0;31m \u001b[0mset\u001b[0m\u001b[0;34m(\u001b[0m\u001b[0mlist\u001b[0m\u001b[0;34m(\u001b[0m\u001b[0mset_\u001b[0m\u001b[0;34m.\u001b[0m\u001b[0msort\u001b[0m\u001b[0;34m(\u001b[0m\u001b[0;34m)\u001b[0m\u001b[0;34m)\u001b[0m\u001b[0;34m)\u001b[0m\u001b[0;34m\u001b[0m\u001b[0;34m\u001b[0m\u001b[0m\n\u001b[0m",
            "\u001b[0;31mAttributeError\u001b[0m: 'set' object has no attribute 'sort'"
          ]
        }
      ]
    },
    {
      "cell_type": "code",
      "source": [
        "l5 = [2,54,5,9,4,6,7,5,4,5,7,6,6,66666,989]"
      ],
      "metadata": {
        "id": "F2ljq_Op1tOv"
      },
      "execution_count": 102,
      "outputs": []
    },
    {
      "cell_type": "code",
      "source": [
        "l5.sort()\n",
        "print(l5)"
      ],
      "metadata": {
        "colab": {
          "base_uri": "https://localhost:8080/"
        },
        "id": "I__LF1D72RKy",
        "outputId": "0a17f325-c1d5-4219-c7da-5ea9d7860ef9"
      },
      "execution_count": 104,
      "outputs": [
        {
          "output_type": "stream",
          "name": "stdout",
          "text": [
            "[2, 4, 4, 5, 5, 5, 6, 6, 6, 7, 7, 9, 54, 989, 66666]\n"
          ]
        }
      ]
    },
    {
      "cell_type": "code",
      "source": [
        "type(l5)"
      ],
      "metadata": {
        "colab": {
          "base_uri": "https://localhost:8080/"
        },
        "id": "WIEZq46u2YH2",
        "outputId": "f061a8b7-7458-4d05-861a-5d85f066da61"
      },
      "execution_count": 114,
      "outputs": [
        {
          "output_type": "execute_result",
          "data": {
            "text/plain": [
              "list"
            ]
          },
          "metadata": {},
          "execution_count": 114
        }
      ]
    },
    {
      "cell_type": "code",
      "source": [],
      "metadata": {
        "id": "mQM8zGBF2yQV"
      },
      "execution_count": 117,
      "outputs": []
    },
    {
      "cell_type": "code",
      "source": [
        "set(l5).add('s')"
      ],
      "metadata": {
        "id": "q8jfdztV2_uu"
      },
      "execution_count": 120,
      "outputs": []
    },
    {
      "cell_type": "code",
      "source": [
        "l5"
      ],
      "metadata": {
        "colab": {
          "base_uri": "https://localhost:8080/"
        },
        "id": "lozZDn613jwe",
        "outputId": "4717e66b-ff71-40fa-e102-4dae327b37bd"
      },
      "execution_count": 121,
      "outputs": [
        {
          "output_type": "execute_result",
          "data": {
            "text/plain": [
              "[2, 4, 4, 5, 5, 5, 6, 6, 6, 7, 7, 9, 54, 989, 66666]"
            ]
          },
          "metadata": {},
          "execution_count": 121
        }
      ]
    },
    {
      "cell_type": "code",
      "source": [],
      "metadata": {
        "id": "6QECS-0j3lh5"
      },
      "execution_count": null,
      "outputs": []
    }
  ]
}
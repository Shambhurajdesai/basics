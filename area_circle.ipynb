{
  "nbformat": 4,
  "nbformat_minor": 0,
  "metadata": {
    "colab": {
      "provenance": [],
      "collapsed_sections": [],
      "authorship_tag": "ABX9TyOMH27IEN2xbro5GuZDdgSR",
      "include_colab_link": true
    },
    "kernelspec": {
      "name": "python3",
      "display_name": "Python 3"
    },
    "language_info": {
      "name": "python"
    }
  },
  "cells": [
    {
      "cell_type": "markdown",
      "metadata": {
        "id": "view-in-github",
        "colab_type": "text"
      },
      "source": [
        "<a href=\"https://colab.research.google.com/github/Shambhurajdesai/basics/blob/main/area_circle.ipynb\" target=\"_parent\"><img src=\"https://colab.research.google.com/assets/colab-badge.svg\" alt=\"Open In Colab\"/></a>"
      ]
    },
    {
      "cell_type": "code",
      "execution_count": 4,
      "metadata": {
        "colab": {
          "base_uri": "https://localhost:8080/"
        },
        "id": "vl-fm5Lb27ZY",
        "outputId": "e811a46d-7200-424b-c184-682d498b2761"
      },
      "outputs": [
        {
          "output_type": "stream",
          "name": "stdout",
          "text": [
            "5\n",
            "78.55\n",
            "31.419999999999998\n"
          ]
        }
      ],
      "source": [
        "class Circle:\n",
        "  def __init__(circle,radius):\n",
        "    circle.radius = radius\n",
        "\n",
        "  def area(circle):\n",
        "    return 3.142*(circle.radius**2)\n",
        "\n",
        "  def parameter(circle):\n",
        "    return 2*3.142*(circle.radius)\n",
        "  \n",
        "R = int(input())\n",
        "C = Circle(R)\n",
        "print(C.area())\n",
        "print(C.parameter())"
      ]
    },
    {
      "cell_type": "code",
      "source": [],
      "metadata": {
        "id": "gS-xqfM23hab"
      },
      "execution_count": null,
      "outputs": []
    }
  ]
}
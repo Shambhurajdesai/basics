{
  "nbformat": 4,
  "nbformat_minor": 0,
  "metadata": {
    "colab": {
      "provenance": [],
      "authorship_tag": "ABX9TyPAzzL7d6F3FIKBAVriFgsO",
      "include_colab_link": true
    },
    "kernelspec": {
      "name": "python3",
      "display_name": "Python 3"
    },
    "language_info": {
      "name": "python"
    }
  },
  "cells": [
    {
      "cell_type": "markdown",
      "metadata": {
        "id": "view-in-github",
        "colab_type": "text"
      },
      "source": [
        "<a href=\"https://colab.research.google.com/github/Shambhurajdesai/basics/blob/main/Untitled22.ipynb\" target=\"_parent\"><img src=\"https://colab.research.google.com/assets/colab-badge.svg\" alt=\"Open In Colab\"/></a>"
      ]
    },
    {
      "cell_type": "code",
      "execution_count": 4,
      "metadata": {
        "id": "zOVEEFPVaEYY"
      },
      "outputs": [],
      "source": [
        "M = int(input())\n",
        "setM = set(map(int,input().split()))\n",
        "N = int(input())\n",
        "setN = set(map(int,input(),split()))\n",
        "\n",
        "result = setM.symmetric_difference(setN)\n",
        "print(sorted(result),sep='\\n')"
      ]
    },
    {
      "cell_type": "code",
      "source": [
        "a = int(input(),input())"
      ],
      "metadata": {
        "id": "4GyA3crmaf9N"
      },
      "execution_count": 6,
      "outputs": []
    },
    {
      "cell_type": "code",
      "source": [],
      "metadata": {
        "id": "gVFrmepriaJc"
      },
      "execution_count": null,
      "outputs": []
    },
    {
      "cell_type": "code",
      "source": [
        "\n",
        "n,m = map(int,input().split())\n",
        "b = list(map(int,input().split()))\n",
        "setA = set(map(int,input().split()))\n",
        "setB = set(map(int,input().split()))\n",
        "happiness = 0\n",
        "for i in b:\n",
        "    if i in setA:\n",
        "         happiness = happiness+1       \n",
        "    elif i in setB:         \n",
        "      happiness = happiness-1     \n",
        "    else:\n",
        "        pass\n",
        "print(happiness)"
      ],
      "metadata": {
        "id": "ioNurlmgdD6z"
      },
      "execution_count": null,
      "outputs": []
    }
  ]
}
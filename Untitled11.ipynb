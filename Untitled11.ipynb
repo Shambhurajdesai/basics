{
  "nbformat": 4,
  "nbformat_minor": 0,
  "metadata": {
    "colab": {
      "provenance": [],
      "collapsed_sections": [],
      "authorship_tag": "ABX9TyNXQQg/Tz06lI0QsslthUEV",
      "include_colab_link": true
    },
    "kernelspec": {
      "name": "python3",
      "display_name": "Python 3"
    },
    "language_info": {
      "name": "python"
    }
  },
  "cells": [
    {
      "cell_type": "markdown",
      "metadata": {
        "id": "view-in-github",
        "colab_type": "text"
      },
      "source": [
        "<a href=\"https://colab.research.google.com/github/Shambhurajdesai/basics/blob/main/Untitled11.ipynb\" target=\"_parent\"><img src=\"https://colab.research.google.com/assets/colab-badge.svg\" alt=\"Open In Colab\"/></a>"
      ]
    },
    {
      "cell_type": "code",
      "execution_count": 1,
      "metadata": {
        "id": "yTWdGNSF7-NJ"
      },
      "outputs": [],
      "source": [
        "# The list of numbers\n",
        "list_of_numbers = [1, 2, 4, 6, 11, 14, 17, 20]"
      ]
    },
    {
      "cell_type": "code",
      "source": [
        "sq_numbers=[]\n",
        "for numbers in list_of_numbers :\n",
        "  sq_numbers.append(numbers**2)"
      ],
      "metadata": {
        "id": "KENVMG9p8D2H"
      },
      "execution_count": 5,
      "outputs": []
    },
    {
      "cell_type": "code",
      "source": [
        "sq_numbers"
      ],
      "metadata": {
        "colab": {
          "base_uri": "https://localhost:8080/"
        },
        "id": "d90ygX_i8S_F",
        "outputId": "c7cf7a24-88a7-4a1a-dd20-5633afb64494"
      },
      "execution_count": 6,
      "outputs": [
        {
          "output_type": "execute_result",
          "data": {
            "text/plain": [
              "[1, 4, 16, 36, 121, 196, 289, 400]"
            ]
          },
          "metadata": {},
          "execution_count": 6
        }
      ]
    },
    {
      "cell_type": "code",
      "source": [
        "sq_num = [number**2 for number in list_of_numbers]"
      ],
      "metadata": {
        "id": "29bNXgNJ8ghc"
      },
      "execution_count": 7,
      "outputs": []
    },
    {
      "cell_type": "code",
      "source": [
        "sq_num"
      ],
      "metadata": {
        "colab": {
          "base_uri": "https://localhost:8080/"
        },
        "id": "l0Ygugbg8pv2",
        "outputId": "56758ad9-65d9-45f9-c3ea-09c7867a6ec7"
      },
      "execution_count": 8,
      "outputs": [
        {
          "output_type": "execute_result",
          "data": {
            "text/plain": [
              "[1, 4, 16, 36, 121, 196, 289, 400]"
            ]
          },
          "metadata": {},
          "execution_count": 8
        }
      ]
    },
    {
      "cell_type": "code",
      "source": [
        "even_sq_num = [numbers**2 for numbers in list_of_numbers if numbers%2==0]\n",
        "even_sq_num"
      ],
      "metadata": {
        "colab": {
          "base_uri": "https://localhost:8080/"
        },
        "id": "bV2rkF9N8raY",
        "outputId": "609e8900-e8e5-45a7-aded-6993eddb913f"
      },
      "execution_count": 11,
      "outputs": [
        {
          "output_type": "execute_result",
          "data": {
            "text/plain": [
              "[4, 16, 36, 196, 400]"
            ]
          },
          "metadata": {},
          "execution_count": 11
        }
      ]
    },
    {
      "cell_type": "code",
      "source": [
        "odd_sq_num = [numbers**2 for numbers in list_of_numbers if numbers%2!=0]\n",
        "odd_sq_num"
      ],
      "metadata": {
        "colab": {
          "base_uri": "https://localhost:8080/"
        },
        "id": "Hj4Oe-FQ88Fn",
        "outputId": "2e52bff0-e38e-47e3-877e-ce59377f82d6"
      },
      "execution_count": 14,
      "outputs": [
        {
          "output_type": "execute_result",
          "data": {
            "text/plain": [
              "[1, 121, 289]"
            ]
          },
          "metadata": {},
          "execution_count": 14
        }
      ]
    },
    {
      "cell_type": "code",
      "source": [
        "odd_sq_numbers = [numbers**2 if numbers%2!=0 else numbers**3 for numbers in list_of_numbers]\n",
        "odd_sq_numbers"
      ],
      "metadata": {
        "colab": {
          "base_uri": "https://localhost:8080/"
        },
        "id": "dfYc7wl49PKU",
        "outputId": "bab6b16d-dd50-42a6-af1d-313b9568c1bd"
      },
      "execution_count": 15,
      "outputs": [
        {
          "output_type": "execute_result",
          "data": {
            "text/plain": [
              "[1, 8, 64, 216, 121, 2744, 289, 8000]"
            ]
          },
          "metadata": {},
          "execution_count": 15
        }
      ]
    },
    {
      "cell_type": "code",
      "source": [
        "list_ = []\n",
        "for num1 in range(4):\n",
        "  list_.append([])\n",
        "\n",
        "  for num2 in range(3):\n",
        "    list_[num1].append(num2)\n",
        "\n",
        "print(list_)\n"
      ],
      "metadata": {
        "colab": {
          "base_uri": "https://localhost:8080/"
        },
        "id": "7z5KVs4b95DA",
        "outputId": "cca18a3a-9196-401a-f430-73536260ae17"
      },
      "execution_count": 17,
      "outputs": [
        {
          "output_type": "stream",
          "name": "stdout",
          "text": [
            "[[0, 1, 2], [0, 1, 2], [0, 1, 2], [0, 1, 2]]\n"
          ]
        }
      ]
    },
    {
      "cell_type": "code",
      "source": [
        "list_of_lists = [[num2 for num2 in range(3)] for num1 in range(4)]\n",
        "print(list_of_lists)"
      ],
      "metadata": {
        "colab": {
          "base_uri": "https://localhost:8080/"
        },
        "id": "48TmyicdAVxc",
        "outputId": "b4ad5525-9428-4919-ae3f-2c7ab513436f"
      },
      "execution_count": 2,
      "outputs": [
        {
          "output_type": "stream",
          "name": "stdout",
          "text": [
            "[[0, 1, 2], [0, 1, 2], [0, 1, 2], [0, 1, 2]]\n"
          ]
        }
      ]
    },
    {
      "cell_type": "code",
      "source": [
        "list_of_lists = [[num1 for num2 in range(3)] for num1 in range(4)]\n",
        "list_of_lists"
      ],
      "metadata": {
        "colab": {
          "base_uri": "https://localhost:8080/"
        },
        "id": "eAwy__3KRYjq",
        "outputId": "f96267ed-d34f-4231-d6c9-a6bb0cbc7b7b"
      },
      "execution_count": 7,
      "outputs": [
        {
          "output_type": "execute_result",
          "data": {
            "text/plain": [
              "[[0, 0, 0], [1, 1, 1], [2, 2, 2], [3, 3, 3]]"
            ]
          },
          "metadata": {},
          "execution_count": 7
        }
      ]
    },
    {
      "cell_type": "code",
      "source": [
        "quote = 'Hey, what are you doing here.? I thought you went to city where were you work for last 10 years. its very surprising to see you again .!'"
      ],
      "metadata": {
        "id": "E8flhix9R4Zn"
      },
      "execution_count": 12,
      "outputs": []
    },
    {
      "cell_type": "code",
      "source": [
        "words_of_quote = quote.split(\" \")\n",
        "print(words_of_quote)"
      ],
      "metadata": {
        "colab": {
          "base_uri": "https://localhost:8080/"
        },
        "id": "fV5QiczeTX-t",
        "outputId": "ec0cc8b6-214f-4796-f7af-f5a716ae83ca"
      },
      "execution_count": 20,
      "outputs": [
        {
          "output_type": "stream",
          "name": "stdout",
          "text": [
            "['Hey,', 'what', 'are', 'you', 'doing', 'here.?', 'I', 'thought', 'you', 'went', 'to', 'city', 'where', 'were', 'you', 'work', 'for', 'last', '10', 'years.', 'its', 'very', 'surprising', 'to', 'see', 'you', 'again', '.!']\n"
          ]
        }
      ]
    },
    {
      "cell_type": "code",
      "source": [
        "quote.split('.')"
      ],
      "metadata": {
        "colab": {
          "base_uri": "https://localhost:8080/"
        },
        "id": "diuITg6CTb1X",
        "outputId": "dd1f33ce-688f-4cc1-b24e-ea780a0fa9ef"
      },
      "execution_count": 13,
      "outputs": [
        {
          "output_type": "execute_result",
          "data": {
            "text/plain": [
              "['Hey, what are you doing here',\n",
              " '? I thought you went to city where were you work for last 10 years',\n",
              " ' its very surprising to see you again ',\n",
              " '!']"
            ]
          },
          "metadata": {},
          "execution_count": 13
        }
      ]
    },
    {
      "cell_type": "code",
      "source": [
        "first_letter = []\n",
        "for word in words_of_quote:\n",
        "  first_letter.append(word[0])\n",
        "print(first_letter)"
      ],
      "metadata": {
        "colab": {
          "base_uri": "https://localhost:8080/"
        },
        "id": "qzbY0dBLTkUB",
        "outputId": "47821769-7dad-4b0e-9c7d-6552fd2b6b95"
      },
      "execution_count": 18,
      "outputs": [
        {
          "output_type": "stream",
          "name": "stdout",
          "text": [
            "['H', 'w', 'a', 'y', 'd', 'h', 'I', 't', 'y', 'w', 't', 'c', 'w', 'w', 'y', 'w', 'f', 'l', '1', 'y', 'i', 'v', 's', 't', 's', 'y', 'a', '.']\n"
          ]
        }
      ]
    },
    {
      "cell_type": "code",
      "source": [
        "first_letter_1 = [word[0] for word in words_of_quote]\n",
        "print(first_letter_1)"
      ],
      "metadata": {
        "colab": {
          "base_uri": "https://localhost:8080/"
        },
        "id": "DAIWn-cBUAPZ",
        "outputId": "3584328a-dce3-4a25-cf0f-de2f77b405e3"
      },
      "execution_count": 21,
      "outputs": [
        {
          "output_type": "stream",
          "name": "stdout",
          "text": [
            "['H', 'w', 'a', 'y', 'd', 'h', 'I', 't', 'y', 'w', 't', 'c', 'w', 'w', 'y', 'w', 'f', 'l', '1', 'y', 'i', 'v', 's', 't', 's', 'y', 'a', '.']\n"
          ]
        }
      ]
    },
    {
      "cell_type": "code",
      "source": [
        "quote_ = 'Hey there My name is Shabhuraj'"
      ],
      "metadata": {
        "id": "yImkENDyUk7u"
      },
      "execution_count": 22,
      "outputs": []
    },
    {
      "cell_type": "code",
      "source": [
        "words_=[]\n",
        "for char in quote_:\n",
        "  words_.append(char)\n",
        "print(words_)"
      ],
      "metadata": {
        "colab": {
          "base_uri": "https://localhost:8080/"
        },
        "id": "0zTA4YXDVcKG",
        "outputId": "bdd96174-80ec-4213-8566-38cbd8f66a4f"
      },
      "execution_count": 23,
      "outputs": [
        {
          "output_type": "stream",
          "name": "stdout",
          "text": [
            "['H', 'e', 'y', ' ', 't', 'h', 'e', 'r', 'e', ' ', 'M', 'y', ' ', 'n', 'a', 'm', 'e', ' ', 'i', 's', ' ', 'S', 'h', 'a', 'b', 'h', 'u', 'r', 'a', 'j']\n"
          ]
        }
      ]
    },
    {
      "cell_type": "code",
      "source": [
        "#by using list comprehension\n",
        "words_by_list_c = [char for char in quote_]\n",
        "print(words_by_list_c)"
      ],
      "metadata": {
        "colab": {
          "base_uri": "https://localhost:8080/"
        },
        "id": "oMmYPTjRV2Jb",
        "outputId": "fcd11c07-a0a1-441b-ff6f-c7c7edef2ebb"
      },
      "execution_count": 24,
      "outputs": [
        {
          "output_type": "stream",
          "name": "stdout",
          "text": [
            "['H', 'e', 'y', ' ', 't', 'h', 'e', 'r', 'e', ' ', 'M', 'y', ' ', 'n', 'a', 'm', 'e', ' ', 'i', 's', ' ', 'S', 'h', 'a', 'b', 'h', 'u', 'r', 'a', 'j']\n"
          ]
        }
      ]
    },
    {
      "cell_type": "code",
      "source": [
        "days = ['Monday','Tuesday','Wednesday','Thursday','Friday','Saturday','Sunday']"
      ],
      "metadata": {
        "id": "O-pIpGaoWDgz"
      },
      "execution_count": 4,
      "outputs": []
    },
    {
      "cell_type": "code",
      "source": [
        "tuple(days for days in days)"
      ],
      "metadata": {
        "colab": {
          "base_uri": "https://localhost:8080/"
        },
        "id": "LhVTJAqipNS9",
        "outputId": "1baba865-1690-4219-b874-63ecaf8106f5"
      },
      "execution_count": 5,
      "outputs": [
        {
          "output_type": "execute_result",
          "data": {
            "text/plain": [
              "('Monday', 'Tuesday', 'Wednesday', 'Thursday', 'Friday', 'Saturday', 'Sunday')"
            ]
          },
          "metadata": {},
          "execution_count": 5
        }
      ]
    },
    {
      "cell_type": "code",
      "source": [
        "days_without_day = tuple([days[:-3] for days in days])\n",
        "print(days_without_day)"
      ],
      "metadata": {
        "colab": {
          "base_uri": "https://localhost:8080/"
        },
        "id": "IfTM4ClxpsOo",
        "outputId": "6016d712-3360-477d-a291-e0fda54e4d9d"
      },
      "execution_count": 6,
      "outputs": [
        {
          "output_type": "stream",
          "name": "stdout",
          "text": [
            "('Mon', 'Tues', 'Wednes', 'Thurs', 'Fri', 'Satur', 'Sun')\n"
          ]
        }
      ]
    },
    {
      "cell_type": "code",
      "source": [
        "country_city_list = [('India','Delhi'),('Australia','Canberra'),('United States','Washington DC'),('England','London')]"
      ],
      "metadata": {
        "id": "T6ycQjWdqH5Y"
      },
      "execution_count": 7,
      "outputs": []
    },
    {
      "cell_type": "code",
      "source": [
        "country_city_list = dict(country_city_list)\n",
        "country_city_list"
      ],
      "metadata": {
        "colab": {
          "base_uri": "https://localhost:8080/"
        },
        "id": "U3vAg7bKuIaB",
        "outputId": "b79dce67-ecbf-4aac-8300-fbffff6e169f"
      },
      "execution_count": 9,
      "outputs": [
        {
          "output_type": "execute_result",
          "data": {
            "text/plain": [
              "{'India': 'Delhi',\n",
              " 'Australia': 'Canberra',\n",
              " 'United States': 'Washington DC',\n",
              " 'England': 'London'}"
            ]
          },
          "metadata": {},
          "execution_count": 9
        }
      ]
    },
    {
      "cell_type": "code",
      "source": [
        "flipped = {}\n",
        "for country,city in country_city_list.items():\n",
        "  flipped[city]=country\n",
        "print(flipped)"
      ],
      "metadata": {
        "colab": {
          "base_uri": "https://localhost:8080/"
        },
        "id": "8huG6ylBuQbP",
        "outputId": "e97e04ae-2d45-4fc4-f7f2-344bc9597b35"
      },
      "execution_count": 15,
      "outputs": [
        {
          "output_type": "stream",
          "name": "stdout",
          "text": [
            "{'Delhi': 'India', 'Canberra': 'Australia', 'Washington DC': 'United States', 'London': 'England'}\n"
          ]
        }
      ]
    },
    {
      "cell_type": "code",
      "source": [
        "flipped_ = {city:country for country,city in country_city_list.items()}\n",
        "print(flipped_)"
      ],
      "metadata": {
        "colab": {
          "base_uri": "https://localhost:8080/"
        },
        "id": "2GRptfyqu8zC",
        "outputId": "bec1b430-9be1-42dd-ce76-bd7bd8ef7e40"
      },
      "execution_count": 19,
      "outputs": [
        {
          "output_type": "stream",
          "name": "stdout",
          "text": [
            "{'Delhi': 'India', 'Canberra': 'Australia', 'Washington DC': 'United States', 'London': 'England'}\n"
          ]
        }
      ]
    },
    {
      "cell_type": "code",
      "source": [
        "flipped = {city:country for country, city in country_city_list.items()}\n",
        "print(flipped)"
      ],
      "metadata": {
        "colab": {
          "base_uri": "https://localhost:8080/"
        },
        "id": "EgJfskzCvMP3",
        "outputId": "a92788c1-458b-48c4-afab-e202412e865d"
      },
      "execution_count": 23,
      "outputs": [
        {
          "output_type": "stream",
          "name": "stdout",
          "text": [
            "{'Delhi': 'India', 'Canberra': 'Australia', 'Washington DC': 'United States', 'London': 'England'}\n"
          ]
        }
      ]
    },
    {
      "cell_type": "code",
      "source": [
        "flipped = {city:country for country,city in country_city_list.items() if country[0] in ['I','U']}\n",
        "print(flipped)"
      ],
      "metadata": {
        "colab": {
          "base_uri": "https://localhost:8080/"
        },
        "id": "xRGo9chkzaPU",
        "outputId": "ac29d2b4-ea2d-4c8b-94e2-a1ff804085a3"
      },
      "execution_count": 27,
      "outputs": [
        {
          "output_type": "stream",
          "name": "stdout",
          "text": [
            "{'Delhi': 'India', 'Washington DC': 'United States'}\n"
          ]
        }
      ]
    },
    {
      "cell_type": "code",
      "source": [
        "flipped = {city[:2]:country[:2] for country,city in country_city_list.items()}\n",
        "print(flipped)\n"
      ],
      "metadata": {
        "colab": {
          "base_uri": "https://localhost:8080/"
        },
        "id": "nN23RWdH15uZ",
        "outputId": "246edf71-1e8c-46b9-c0df-f5c38dcc3583"
      },
      "execution_count": 28,
      "outputs": [
        {
          "output_type": "stream",
          "name": "stdout",
          "text": [
            "{'De': 'In', 'Ca': 'Au', 'Wa': 'Un', 'Lo': 'En'}\n"
          ]
        }
      ]
    },
    {
      "cell_type": "code",
      "source": [
        "flipped = {city[:2]:country[-3:] for country,city in country_city_list.items() if country[0] in ['E','A']}\n",
        "print(flipped)"
      ],
      "metadata": {
        "colab": {
          "base_uri": "https://localhost:8080/"
        },
        "id": "WogtdkXN16Id",
        "outputId": "545447b7-f032-4bd8-fb05-e1ba975b783c"
      },
      "execution_count": 32,
      "outputs": [
        {
          "output_type": "stream",
          "name": "stdout",
          "text": [
            "{'Ca': 'lia', 'Lo': 'and'}\n"
          ]
        }
      ]
    },
    {
      "cell_type": "code",
      "source": [],
      "metadata": {
        "id": "JIIKMvIB2BRT"
      },
      "execution_count": null,
      "outputs": []
    },
    {
      "cell_type": "code",
      "source": [],
      "metadata": {
        "id": "pxe2HaB32Sm7"
      },
      "execution_count": 22,
      "outputs": []
    }
  ]
}
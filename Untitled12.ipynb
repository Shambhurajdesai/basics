{
  "nbformat": 4,
  "nbformat_minor": 0,
  "metadata": {
    "colab": {
      "provenance": [],
      "authorship_tag": "ABX9TyOGzUIJbLccY2ig6kwutyar",
      "include_colab_link": true
    },
    "kernelspec": {
      "name": "python3",
      "display_name": "Python 3"
    },
    "language_info": {
      "name": "python"
    }
  },
  "cells": [
    {
      "cell_type": "markdown",
      "metadata": {
        "id": "view-in-github",
        "colab_type": "text"
      },
      "source": [
        "<a href=\"https://colab.research.google.com/github/Shambhurajdesai/basics/blob/main/Untitled12.ipynb\" target=\"_parent\"><img src=\"https://colab.research.google.com/assets/colab-badge.svg\" alt=\"Open In Colab\"/></a>"
      ]
    },
    {
      "cell_type": "code",
      "execution_count": 1,
      "metadata": {
        "id": "O43RURW_apE4"
      },
      "outputs": [],
      "source": [
        "#def statements\n",
        "def function(a1,a2):\n",
        "  return a1+a2"
      ]
    },
    {
      "cell_type": "code",
      "source": [
        "function(4,5)"
      ],
      "metadata": {
        "colab": {
          "base_uri": "https://localhost:8080/"
        },
        "id": "P5UId4o8a7to",
        "outputId": "d1df10f0-e0f7-4bf7-8abe-410bce2a2c73"
      },
      "execution_count": 2,
      "outputs": [
        {
          "output_type": "execute_result",
          "data": {
            "text/plain": [
              "9"
            ]
          },
          "metadata": {},
          "execution_count": 2
        }
      ]
    },
    {
      "cell_type": "code",
      "source": [
        "heisenberg_quote = \"It ceases to exist without me. No, you clearly don't know who you're talking to, so let me clue you in. I am not in danger, Skyler. I am the danger.\""
      ],
      "metadata": {
        "id": "GTeDR1MWa-KS"
      },
      "execution_count": 10,
      "outputs": []
    },
    {
      "cell_type": "code",
      "source": [
        "statement = heisenberg_quote.split(\" \")\n",
        "words = [word[0] for word in statement]\n",
        "print(words)"
      ],
      "metadata": {
        "colab": {
          "base_uri": "https://localhost:8080/"
        },
        "id": "Al-yvnX2cW0Z",
        "outputId": "95fb562e-4517-4701-fceb-17c238608c05"
      },
      "execution_count": 11,
      "outputs": [
        {
          "output_type": "stream",
          "name": "stdout",
          "text": [
            "['I', 'c', 't', 'e', 'w', 'm', 'N', 'y', 'c', 'd', 'k', 'w', 'y', 't', 't', 's', 'l', 'm', 'c', 'y', 'i', 'I', 'a', 'n', 'i', 'd', 'S', 'I', 'a', 't', 'd']\n"
          ]
        }
      ]
    },
    {
      "cell_type": "code",
      "source": [
        "d = [('India','Virat'),('Australia','Finch'),('SriLanka','Parera'),('Africa','Bavuma'),('England','Anderson')]"
      ],
      "metadata": {
        "id": "6xDrna44clJv"
      },
      "execution_count": 25,
      "outputs": []
    },
    {
      "cell_type": "code",
      "source": [
        "dict_ = dict(d)"
      ],
      "metadata": {
        "id": "KUik4lNyc_-L"
      },
      "execution_count": 26,
      "outputs": []
    },
    {
      "cell_type": "code",
      "source": [
        "print(dict_)"
      ],
      "metadata": {
        "colab": {
          "base_uri": "https://localhost:8080/"
        },
        "id": "jQZ6AGhldCTL",
        "outputId": "dccd931b-3e8a-447f-8546-d9c91cc2e99d"
      },
      "execution_count": 27,
      "outputs": [
        {
          "output_type": "stream",
          "name": "stdout",
          "text": [
            "{'India': 'Virat', 'Australia': 'Finch', 'SriLanka': 'Parera', 'Africa': 'Bavuma', 'England': 'Anderson'}\n"
          ]
        }
      ]
    },
    {
      "cell_type": "code",
      "source": [
        "flipped = {country:captain for country,captain in dict_.items() if captain[0] in ['V']}\n",
        "print(flipped)"
      ],
      "metadata": {
        "colab": {
          "base_uri": "https://localhost:8080/"
        },
        "id": "47-B39HYdC-4",
        "outputId": "acfd22a0-3d79-4ffb-f47c-68bdc436ca56"
      },
      "execution_count": 33,
      "outputs": [
        {
          "output_type": "stream",
          "name": "stdout",
          "text": [
            "{'India': 'Virat'}\n"
          ]
        }
      ]
    },
    {
      "cell_type": "code",
      "source": [
        "def extract_first_letter(statement):\n",
        "\n",
        "  line = statement.split(\" \")\n",
        "\n",
        "  words = [word[0].lower() for word in line]\n",
        "\n",
        "  return words"
      ],
      "metadata": {
        "id": "LtES7BNZdRZy"
      },
      "execution_count": 42,
      "outputs": []
    },
    {
      "cell_type": "code",
      "source": [
        "quote = \"Hey there, I am Shambhuraj Desai from Kolhapur At post Ajara\""
      ],
      "metadata": {
        "id": "q8w2tG-Kf3jA"
      },
      "execution_count": 35,
      "outputs": []
    },
    {
      "cell_type": "code",
      "source": [
        "print(extract_first_letter(quote))"
      ],
      "metadata": {
        "colab": {
          "base_uri": "https://localhost:8080/"
        },
        "id": "8SobqbAngBcn",
        "outputId": "b0bcac64-6b58-4441-d226-4b3ec96c4f65"
      },
      "execution_count": 43,
      "outputs": [
        {
          "output_type": "stream",
          "name": "stdout",
          "text": [
            "['h', 't', 'i', 'a', 's', 'd', 'f', 'k', 'a', 'p', 'a']\n"
          ]
        }
      ]
    },
    {
      "cell_type": "code",
      "source": [
        "def factorial(num):\n",
        "\n",
        "  if num > 0:\n",
        "    result = 1\n",
        "    for i in range(1, num+1):\n",
        "      result = result * i\n",
        "  elif num == 0 :\n",
        "    result = 'Factorial of 0 is 1'\n",
        "  else:\n",
        "    result = 'We couldnt find factorial value for negative numbers'\n",
        "  return result"
      ],
      "metadata": {
        "id": "g1b5TkF4gFOL"
      },
      "execution_count": 50,
      "outputs": []
    },
    {
      "cell_type": "code",
      "source": [
        "factorial(5)"
      ],
      "metadata": {
        "colab": {
          "base_uri": "https://localhost:8080/"
        },
        "id": "QEzrZZzAibcO",
        "outputId": "2cebb1e7-e989-496c-c68e-f83f7c799d84"
      },
      "execution_count": 45,
      "outputs": [
        {
          "output_type": "execute_result",
          "data": {
            "text/plain": [
              "120"
            ]
          },
          "metadata": {},
          "execution_count": 45
        }
      ]
    },
    {
      "cell_type": "code",
      "source": [
        "factorial(4)"
      ],
      "metadata": {
        "colab": {
          "base_uri": "https://localhost:8080/"
        },
        "id": "nnaAEpGPidu8",
        "outputId": "2bf85a9a-d024-47b3-de6e-e9b3ae3cd691"
      },
      "execution_count": 46,
      "outputs": [
        {
          "output_type": "execute_result",
          "data": {
            "text/plain": [
              "24"
            ]
          },
          "metadata": {},
          "execution_count": 46
        }
      ]
    },
    {
      "cell_type": "code",
      "source": [
        "factorial(2)"
      ],
      "metadata": {
        "colab": {
          "base_uri": "https://localhost:8080/"
        },
        "id": "fVF0qPFVigJo",
        "outputId": "5dd54e5d-89dd-4d11-8578-70f322203778"
      },
      "execution_count": 48,
      "outputs": [
        {
          "output_type": "execute_result",
          "data": {
            "text/plain": [
              "2"
            ]
          },
          "metadata": {},
          "execution_count": 48
        }
      ]
    },
    {
      "cell_type": "code",
      "source": [
        "factorial(0)"
      ],
      "metadata": {
        "colab": {
          "base_uri": "https://localhost:8080/",
          "height": 35
        },
        "id": "s_OeHYTzijif",
        "outputId": "e7a9c09d-548f-49c0-ee37-7f28c12038e3"
      },
      "execution_count": 51,
      "outputs": [
        {
          "output_type": "execute_result",
          "data": {
            "text/plain": [
              "'Factorial of 0 is 1'"
            ],
            "application/vnd.google.colaboratory.intrinsic+json": {
              "type": "string"
            }
          },
          "metadata": {},
          "execution_count": 51
        }
      ]
    },
    {
      "cell_type": "code",
      "source": [
        "list_ = [5,10,30,15,17,19]\n",
        "\n",
        "fact = [factorial(num) for num in list_ if num%2 == 0]\n",
        "print(fact)"
      ],
      "metadata": {
        "colab": {
          "base_uri": "https://localhost:8080/"
        },
        "id": "x-JB1_6uinQS",
        "outputId": "4be95ddb-534c-45f9-f14c-c32064f9fc45"
      },
      "execution_count": 54,
      "outputs": [
        {
          "output_type": "stream",
          "name": "stdout",
          "text": [
            "[3628800, 265252859812191058636308480000000]\n"
          ]
        }
      ]
    },
    {
      "cell_type": "code",
      "source": [
        "def evenodd(num):\n",
        "  print(f'The given numbers is {num}')\n",
        "\n",
        "  if num%2 != 0:\n",
        "      return 'ODD'\n",
        "  else:\n",
        "      return 'EVEN'\n"
      ],
      "metadata": {
        "id": "S3aFkG9sjOLL"
      },
      "execution_count": 66,
      "outputs": []
    },
    {
      "cell_type": "code",
      "source": [
        "evenodd(1)"
      ],
      "metadata": {
        "colab": {
          "base_uri": "https://localhost:8080/",
          "height": 52
        },
        "id": "xUMjkzHOp6Zq",
        "outputId": "51242487-5686-4b39-c497-7de291c3a631"
      },
      "execution_count": 67,
      "outputs": [
        {
          "output_type": "stream",
          "name": "stdout",
          "text": [
            "The given numbers is 1\n"
          ]
        },
        {
          "output_type": "execute_result",
          "data": {
            "text/plain": [
              "'ODD'"
            ],
            "application/vnd.google.colaboratory.intrinsic+json": {
              "type": "string"
            }
          },
          "metadata": {},
          "execution_count": 67
        }
      ]
    },
    {
      "cell_type": "code",
      "source": [
        "def central_ten(my_list):\n",
        "\n",
        "  mean = sum(my_list)/len(my_list)\n",
        "\n",
        "  sorted_list = sorted(my_list)\n",
        "  length_list = len(my_list)\n",
        "  if len(my_list)%2 == 0:\n",
        "    median = (sorted_list[int(length_list/2)-1] + (sorted_list[int(length_list/2)]))/2\n",
        "  else:\n",
        "    median = sorted_list[int((length_list+1)/2)-1]\n",
        "\n",
        "  return mean,median\n"
      ],
      "metadata": {
        "id": "FyvDP0rCqCwl"
      },
      "execution_count": 68,
      "outputs": []
    },
    {
      "cell_type": "code",
      "source": [
        "central_ten([1,2,3,4,5,6,78,9,10])"
      ],
      "metadata": {
        "colab": {
          "base_uri": "https://localhost:8080/"
        },
        "id": "RgCdLmU9tw0h",
        "outputId": "7dff56c6-6548-4d6e-a977-3279784da778"
      },
      "execution_count": 69,
      "outputs": [
        {
          "output_type": "execute_result",
          "data": {
            "text/plain": [
              "(13.11111111111111, 5)"
            ]
          },
          "metadata": {},
          "execution_count": 69
        }
      ]
    },
    {
      "cell_type": "code",
      "source": [
        "height = [1,2,3,4,5,6,99,78]"
      ],
      "metadata": {
        "id": "xhOUqwpAt2uI"
      },
      "execution_count": 76,
      "outputs": []
    },
    {
      "cell_type": "code",
      "source": [
        "mean_height,median_height = central_ten(height)"
      ],
      "metadata": {
        "id": "Vx5H3_dxuqWg"
      },
      "execution_count": 77,
      "outputs": []
    },
    {
      "cell_type": "code",
      "source": [
        "mean_height"
      ],
      "metadata": {
        "colab": {
          "base_uri": "https://localhost:8080/"
        },
        "id": "mJkI8VO4uroj",
        "outputId": "2e65a6d9-4227-4fd1-fb44-94d30a8f9d83"
      },
      "execution_count": 78,
      "outputs": [
        {
          "output_type": "execute_result",
          "data": {
            "text/plain": [
              "24.75"
            ]
          },
          "metadata": {},
          "execution_count": 78
        }
      ]
    },
    {
      "cell_type": "code",
      "source": [
        "median_height"
      ],
      "metadata": {
        "colab": {
          "base_uri": "https://localhost:8080/"
        },
        "id": "lKAKYSezu7ko",
        "outputId": "7464fd16-65e0-4bf6-d6b0-cc271548ae78"
      },
      "execution_count": 79,
      "outputs": [
        {
          "output_type": "execute_result",
          "data": {
            "text/plain": [
              "4.5"
            ]
          },
          "metadata": {},
          "execution_count": 79
        }
      ]
    },
    {
      "cell_type": "code",
      "source": [
        "central_ten(height)"
      ],
      "metadata": {
        "colab": {
          "base_uri": "https://localhost:8080/"
        },
        "id": "RhanUOzUu99O",
        "outputId": "e4a63c3e-011b-4a44-934b-38dd6b6b994d"
      },
      "execution_count": 80,
      "outputs": [
        {
          "output_type": "execute_result",
          "data": {
            "text/plain": [
              "(24.75, 4.5)"
            ]
          },
          "metadata": {},
          "execution_count": 80
        }
      ]
    },
    {
      "cell_type": "code",
      "source": [
        "print(list_)"
      ],
      "metadata": {
        "colab": {
          "base_uri": "https://localhost:8080/"
        },
        "id": "Qhb-ncWqzRQS",
        "outputId": "0e01fbb3-accb-4ddf-93ec-c8cf2b58a484"
      },
      "execution_count": 81,
      "outputs": [
        {
          "output_type": "stream",
          "name": "stdout",
          "text": [
            "[5, 10, 30, 15, 17, 19]\n"
          ]
        }
      ]
    },
    {
      "cell_type": "code",
      "source": [
        "def insert_value_to_list(list_,index_to_place,value_to_place):\n",
        "\n",
        "  first_part = list_[0:index_to_place]\n",
        "\n",
        "  first_part.append(value_to_place)\n",
        "\n",
        "  last_part = list_[index_to_place:]\n",
        "\n",
        "  first_part.extend(last_part)\n",
        "\n",
        "  return first_part\n"
      ],
      "metadata": {
        "id": "-jYJFsihvBcm"
      },
      "execution_count": 82,
      "outputs": []
    },
    {
      "cell_type": "code",
      "source": [
        "insert_value_to_list(list_,0,999)"
      ],
      "metadata": {
        "colab": {
          "base_uri": "https://localhost:8080/"
        },
        "id": "bHdf5s312zkz",
        "outputId": "4ddae8ef-de37-438c-bb02-b0d1e7286a97"
      },
      "execution_count": 83,
      "outputs": [
        {
          "output_type": "execute_result",
          "data": {
            "text/plain": [
              "[999, 5, 10, 30, 15, 17, 19]"
            ]
          },
          "metadata": {},
          "execution_count": 83
        }
      ]
    },
    {
      "cell_type": "code",
      "source": [
        "def exp():\n",
        "  global x\n",
        "  x=10\n",
        "  return x"
      ],
      "metadata": {
        "id": "66F0WzFC2_dn"
      },
      "execution_count": 95,
      "outputs": []
    },
    {
      "cell_type": "code",
      "source": [
        "x = 20"
      ],
      "metadata": {
        "id": "1cQWiXtL3rsM"
      },
      "execution_count": 96,
      "outputs": []
    },
    {
      "cell_type": "code",
      "source": [
        "exp()"
      ],
      "metadata": {
        "colab": {
          "base_uri": "https://localhost:8080/"
        },
        "id": "tSfSga9q3s3a",
        "outputId": "9a8e07e5-d1fa-4f2f-f319-441e499ecb65"
      },
      "execution_count": 97,
      "outputs": [
        {
          "output_type": "execute_result",
          "data": {
            "text/plain": [
              "10"
            ]
          },
          "metadata": {},
          "execution_count": 97
        }
      ]
    },
    {
      "cell_type": "code",
      "source": [
        "x"
      ],
      "metadata": {
        "colab": {
          "base_uri": "https://localhost:8080/"
        },
        "id": "Mn6HhyYG341D",
        "outputId": "2c7475fc-8fdb-43b7-aade-be6e5b24743d"
      },
      "execution_count": 98,
      "outputs": [
        {
          "output_type": "execute_result",
          "data": {
            "text/plain": [
              "10"
            ]
          },
          "metadata": {},
          "execution_count": 98
        }
      ]
    },
    {
      "cell_type": "code",
      "source": [
        "x"
      ],
      "metadata": {
        "colab": {
          "base_uri": "https://localhost:8080/"
        },
        "id": "11JyCU033_Rq",
        "outputId": "5b926dcc-6f4c-4e40-9b91-973a5672da80"
      },
      "execution_count": 99,
      "outputs": [
        {
          "output_type": "execute_result",
          "data": {
            "text/plain": [
              "10"
            ]
          },
          "metadata": {},
          "execution_count": 99
        }
      ]
    },
    {
      "cell_type": "code",
      "source": [
        "x=5"
      ],
      "metadata": {
        "id": "wVz7VE9N4CM6"
      },
      "execution_count": 100,
      "outputs": []
    },
    {
      "cell_type": "code",
      "source": [
        "x"
      ],
      "metadata": {
        "colab": {
          "base_uri": "https://localhost:8080/"
        },
        "id": "cIGuZgMD4FAd",
        "outputId": "e0f0dee7-70a1-409f-f9ea-bfc4bcee702e"
      },
      "execution_count": 101,
      "outputs": [
        {
          "output_type": "execute_result",
          "data": {
            "text/plain": [
              "5"
            ]
          },
          "metadata": {},
          "execution_count": 101
        }
      ]
    },
    {
      "cell_type": "code",
      "source": [],
      "metadata": {
        "id": "NSmMjQpH4FiJ"
      },
      "execution_count": null,
      "outputs": []
    }
  ]
}
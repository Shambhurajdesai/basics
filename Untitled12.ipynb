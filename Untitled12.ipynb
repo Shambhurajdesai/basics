{
  "nbformat": 4,
  "nbformat_minor": 0,
  "metadata": {
    "colab": {
      "provenance": [],
      "authorship_tag": "ABX9TyPsejmGCmzvi/W6MqNxe1ES",
      "include_colab_link": true
    },
    "kernelspec": {
      "name": "python3",
      "display_name": "Python 3"
    },
    "language_info": {
      "name": "python"
    }
  },
  "cells": [
    {
      "cell_type": "markdown",
      "metadata": {
        "id": "view-in-github",
        "colab_type": "text"
      },
      "source": [
        "<a href=\"https://colab.research.google.com/github/Shambhurajdesai/basics/blob/main/Untitled12.ipynb\" target=\"_parent\"><img src=\"https://colab.research.google.com/assets/colab-badge.svg\" alt=\"Open In Colab\"/></a>"
      ]
    },
    {
      "cell_type": "code",
      "execution_count": 1,
      "metadata": {
        "id": "O43RURW_apE4"
      },
      "outputs": [],
      "source": [
        "#def statements\n",
        "def function(a1,a2):\n",
        "  return a1+a2"
      ]
    },
    {
      "cell_type": "code",
      "source": [
        "function(4,5)"
      ],
      "metadata": {
        "colab": {
          "base_uri": "https://localhost:8080/"
        },
        "id": "P5UId4o8a7to",
        "outputId": "d1df10f0-e0f7-4bf7-8abe-410bce2a2c73"
      },
      "execution_count": 2,
      "outputs": [
        {
          "output_type": "execute_result",
          "data": {
            "text/plain": [
              "9"
            ]
          },
          "metadata": {},
          "execution_count": 2
        }
      ]
    },
    {
      "cell_type": "code",
      "source": [
        "heisenberg_quote = \"It ceases to exist without me. No, you clearly don't know who you're talking to, so let me clue you in. I am not in danger, Skyler. I am the danger.\""
      ],
      "metadata": {
        "id": "GTeDR1MWa-KS"
      },
      "execution_count": 10,
      "outputs": []
    },
    {
      "cell_type": "code",
      "source": [
        "statement = heisenberg_quote.split(\" \")\n",
        "words = [word[0] for word in statement]\n",
        "print(words)"
      ],
      "metadata": {
        "colab": {
          "base_uri": "https://localhost:8080/"
        },
        "id": "Al-yvnX2cW0Z",
        "outputId": "95fb562e-4517-4701-fceb-17c238608c05"
      },
      "execution_count": 11,
      "outputs": [
        {
          "output_type": "stream",
          "name": "stdout",
          "text": [
            "['I', 'c', 't', 'e', 'w', 'm', 'N', 'y', 'c', 'd', 'k', 'w', 'y', 't', 't', 's', 'l', 'm', 'c', 'y', 'i', 'I', 'a', 'n', 'i', 'd', 'S', 'I', 'a', 't', 'd']\n"
          ]
        }
      ]
    },
    {
      "cell_type": "code",
      "source": [
        "d = [('India','Virat'),('Australia','Finch'),('SriLanka','Parera'),('Africa','Bavuma'),('England','Anderson')]"
      ],
      "metadata": {
        "id": "6xDrna44clJv"
      },
      "execution_count": 25,
      "outputs": []
    },
    {
      "cell_type": "code",
      "source": [
        "dict_ = dict(d)"
      ],
      "metadata": {
        "id": "KUik4lNyc_-L"
      },
      "execution_count": 26,
      "outputs": []
    },
    {
      "cell_type": "code",
      "source": [
        "print(dict_)"
      ],
      "metadata": {
        "colab": {
          "base_uri": "https://localhost:8080/"
        },
        "id": "jQZ6AGhldCTL",
        "outputId": "dccd931b-3e8a-447f-8546-d9c91cc2e99d"
      },
      "execution_count": 27,
      "outputs": [
        {
          "output_type": "stream",
          "name": "stdout",
          "text": [
            "{'India': 'Virat', 'Australia': 'Finch', 'SriLanka': 'Parera', 'Africa': 'Bavuma', 'England': 'Anderson'}\n"
          ]
        }
      ]
    },
    {
      "cell_type": "code",
      "source": [
        "flipped = {country:captain for country,captain in dict_.items() if captain[0] in ['V']}\n",
        "print(flipped)"
      ],
      "metadata": {
        "colab": {
          "base_uri": "https://localhost:8080/"
        },
        "id": "47-B39HYdC-4",
        "outputId": "acfd22a0-3d79-4ffb-f47c-68bdc436ca56"
      },
      "execution_count": 33,
      "outputs": [
        {
          "output_type": "stream",
          "name": "stdout",
          "text": [
            "{'India': 'Virat'}\n"
          ]
        }
      ]
    },
    {
      "cell_type": "code",
      "source": [
        "def extract_first_letter(statement):\n",
        "\n",
        "  line = statement.split(\" \")\n",
        "\n",
        "  words = [word[0].lower() for word in line]\n",
        "\n",
        "  return words"
      ],
      "metadata": {
        "id": "LtES7BNZdRZy"
      },
      "execution_count": 42,
      "outputs": []
    },
    {
      "cell_type": "code",
      "source": [
        "quote = \"Hey there, I am Shambhuraj Desai from Kolhapur At post Ajara\""
      ],
      "metadata": {
        "id": "q8w2tG-Kf3jA"
      },
      "execution_count": 35,
      "outputs": []
    },
    {
      "cell_type": "code",
      "source": [
        "print(extract_first_letter(quote))"
      ],
      "metadata": {
        "colab": {
          "base_uri": "https://localhost:8080/"
        },
        "id": "8SobqbAngBcn",
        "outputId": "b0bcac64-6b58-4441-d226-4b3ec96c4f65"
      },
      "execution_count": 43,
      "outputs": [
        {
          "output_type": "stream",
          "name": "stdout",
          "text": [
            "['h', 't', 'i', 'a', 's', 'd', 'f', 'k', 'a', 'p', 'a']\n"
          ]
        }
      ]
    },
    {
      "cell_type": "code",
      "source": [],
      "metadata": {
        "id": "g1b5TkF4gFOL"
      },
      "execution_count": null,
      "outputs": []
    }
  ]
}
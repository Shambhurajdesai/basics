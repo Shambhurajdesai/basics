{
  "nbformat": 4,
  "nbformat_minor": 0,
  "metadata": {
    "colab": {
      "provenance": [],
      "authorship_tag": "ABX9TyMXg2nu8+/2n5bOXwg4bpj6",
      "include_colab_link": true
    },
    "kernelspec": {
      "name": "python3",
      "display_name": "Python 3"
    },
    "language_info": {
      "name": "python"
    }
  },
  "cells": [
    {
      "cell_type": "markdown",
      "metadata": {
        "id": "view-in-github",
        "colab_type": "text"
      },
      "source": [
        "<a href=\"https://colab.research.google.com/github/Shambhurajdesai/basics/blob/main/Untitled19.ipynb\" target=\"_parent\"><img src=\"https://colab.research.google.com/assets/colab-badge.svg\" alt=\"Open In Colab\"/></a>"
      ]
    },
    {
      "cell_type": "code",
      "execution_count": 1,
      "metadata": {
        "id": "THSs6MishvgL"
      },
      "outputs": [],
      "source": [
        "a = [[1,5,6],\n",
        "     [9,5,6],\n",
        "     [4,5,3]]"
      ]
    },
    {
      "cell_type": "code",
      "source": [
        "x = [[r[i] for r in a] for i in range(len(a[0]))]\n",
        "print(x)\n",
        "\n",
        "##here r[i] = [1,5,6],[9,5,6],[4,5,3]\n"
      ],
      "metadata": {
        "colab": {
          "base_uri": "https://localhost:8080/"
        },
        "id": "Q50j6Pi1leMt",
        "outputId": "f95acfb7-514d-47be-a5e8-e1f9426597b2"
      },
      "execution_count": 3,
      "outputs": [
        {
          "output_type": "stream",
          "name": "stdout",
          "text": [
            "[[1, 9, 4], [5, 5, 5], [6, 6, 3]]\n"
          ]
        }
      ]
    },
    {
      "cell_type": "code",
      "source": [
        "result = [[a[j][i] for j in range(len(a))] for i in range(len(a[0]))]\n",
        "for r in result:\n",
        "  print(r)\n",
        "\n"
      ],
      "metadata": {
        "colab": {
          "base_uri": "https://localhost:8080/"
        },
        "id": "9uBqK5CUmJ_O",
        "outputId": "e7e4655e-eaf3-4c6f-85b2-fe3cad6a2009"
      },
      "execution_count": 10,
      "outputs": [
        {
          "output_type": "stream",
          "name": "stdout",
          "text": [
            "[1, 9, 4]\n",
            "[5, 5, 5]\n",
            "[6, 6, 3]\n"
          ]
        }
      ]
    },
    {
      "cell_type": "code",
      "source": [
        "n = 10\n",
        "sum = 0\n",
        "for i in range(n+1):\n",
        "  sum  = sum+i\n",
        "print(sum)"
      ],
      "metadata": {
        "colab": {
          "base_uri": "https://localhost:8080/"
        },
        "id": "V7q4TAPYoCYn",
        "outputId": "5022057c-2663-43d6-fe13-50fdbc34c334"
      },
      "execution_count": 12,
      "outputs": [
        {
          "output_type": "stream",
          "name": "stdout",
          "text": [
            "55\n"
          ]
        }
      ]
    },
    {
      "cell_type": "code",
      "source": [
        "m = int(input())\n",
        "sum_sq = 0\n",
        "for i in range(m+1):\n",
        "  sum_sq = sum_sq + i**2\n",
        "print(sum_sq)"
      ],
      "metadata": {
        "colab": {
          "base_uri": "https://localhost:8080/"
        },
        "id": "Wt2LFWHGq0Qe",
        "outputId": "fe3a219e-4c01-4896-d9bb-37fc3eb1ce2d"
      },
      "execution_count": 16,
      "outputs": [
        {
          "output_type": "stream",
          "name": "stdout",
          "text": [
            "10\n",
            "385\n"
          ]
        }
      ]
    },
    {
      "cell_type": "code",
      "source": [
        "str1 = 'google.com'"
      ],
      "metadata": {
        "id": "Zr2mtnivrNCd"
      },
      "execution_count": 17,
      "outputs": []
    },
    {
      "cell_type": "code",
      "source": [
        "\n",
        "str1 = str1.lower()\n",
        "dict_ = {}\n",
        "unique = list(set(str1))\n",
        "for i in range(len(unique)):\n",
        "    key = unique[i]\n",
        "    dict_[key] = str1.count(key)\n",
        "print(dict_)"
      ],
      "metadata": {
        "colab": {
          "base_uri": "https://localhost:8080/"
        },
        "id": "PyRHp6kr1g9A",
        "outputId": "0a37dc07-ca93-453d-94e0-f5e42a10a50c"
      },
      "execution_count": 19,
      "outputs": [
        {
          "output_type": "stream",
          "name": "stdout",
          "text": [
            "{'.': 1, 'o': 3, 'm': 1, 'e': 1, 'c': 1, 'g': 2, 'l': 1}\n"
          ]
        }
      ]
    },
    {
      "cell_type": "code",
      "source": [
        "\n",
        "def char_fre(str1):\n",
        "    str1 = str1.lower()\n",
        "    dict_ = {}\n",
        "    unique = list(set(str1))\n",
        "    for i in range(len(unique)):\n",
        "          key = unique[i]\n",
        "          dict_[key] = str1.count(key)\n",
        "    return dict_\n",
        "print(char_fre(str1))\n",
        "\n"
      ],
      "metadata": {
        "colab": {
          "base_uri": "https://localhost:8080/"
        },
        "id": "1JE81COc1qfu",
        "outputId": "a0e229d2-8c3a-45fa-c2cd-1e27dc4de71c"
      },
      "execution_count": 20,
      "outputs": [
        {
          "output_type": "stream",
          "name": "stdout",
          "text": [
            "{'.': 1, 'o': 3, 'm': 1, 'e': 1, 'c': 1, 'g': 2, 'l': 1}\n"
          ]
        }
      ]
    },
    {
      "cell_type": "code",
      "source": [],
      "metadata": {
        "id": "FNABoigG7YF2"
      },
      "execution_count": null,
      "outputs": []
    }
  ]
}
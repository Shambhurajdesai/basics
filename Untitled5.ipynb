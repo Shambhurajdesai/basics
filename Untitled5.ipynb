{
  "nbformat": 4,
  "nbformat_minor": 0,
  "metadata": {
    "colab": {
      "provenance": [],
      "authorship_tag": "ABX9TyMNcgrmtXFHEYQqUOykuBCO",
      "include_colab_link": true
    },
    "kernelspec": {
      "name": "python3",
      "display_name": "Python 3"
    },
    "language_info": {
      "name": "python"
    }
  },
  "cells": [
    {
      "cell_type": "markdown",
      "metadata": {
        "id": "view-in-github",
        "colab_type": "text"
      },
      "source": [
        "<a href=\"https://colab.research.google.com/github/Shambhurajdesai/basics/blob/main/Untitled5.ipynb\" target=\"_parent\"><img src=\"https://colab.research.google.com/assets/colab-badge.svg\" alt=\"Open In Colab\"/></a>"
      ]
    },
    {
      "cell_type": "code",
      "execution_count": 4,
      "metadata": {
        "colab": {
          "base_uri": "https://localhost:8080/"
        },
        "id": "6MouaffTalQw",
        "outputId": "e418f764-90dc-4226-8535-11759c40aa09"
      },
      "outputs": [
        {
          "output_type": "stream",
          "name": "stdout",
          "text": [
            "The radius is: 5\n",
            "The height is: 9\n",
            "The Volumne of the Cylinder is:  706.9499999999999\n",
            "The Surface_area of the Cylinder is:  282.78\n"
          ]
        }
      ],
      "source": [
        "class Cylinder:\n",
        "  def __init__(cylinder,radius,height):\n",
        "    cylinder.radius = radius\n",
        "    cylinder.height = height\n",
        "\n",
        "  def display(cylinder):\n",
        "    print(\"The radius of the cylinder is: \",cylinder.radius)\n",
        "    print(\"The height of the cylinder is: \",cylinder.height)\n",
        "  \n",
        "  def Volume(cylinder):\n",
        "    return (3.142*(cylinder.radius**2)*cylinder.height)\n",
        "  def Sur_area(cylinder):\n",
        "    return (2*3.142*cylinder.radius*cylinder.height)\n",
        "\n",
        "R = int(input(\"The radius is: \"))\n",
        "H = int(input(\"The height is: \"))\n",
        "\n",
        "C1 = Cylinder(R,H)\n",
        "\n",
        "print(\"The Volumne of the Cylinder is: \",C1.Volume())\n",
        "print(\"The Surface_area of the Cylinder is: \",C1.Sur_area())\n"
      ]
    },
    {
      "cell_type": "code",
      "source": [],
      "metadata": {
        "id": "O-5Bd9EPcTjs"
      },
      "execution_count": null,
      "outputs": []
    }
  ]
}
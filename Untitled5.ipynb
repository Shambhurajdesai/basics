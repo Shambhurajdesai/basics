{
  "nbformat": 4,
  "nbformat_minor": 0,
  "metadata": {
    "colab": {
      "provenance": [],
      "authorship_tag": "ABX9TyMkY7dol68ggZliX1bvbqJV",
      "include_colab_link": true
    },
    "kernelspec": {
      "name": "python3",
      "display_name": "Python 3"
    },
    "language_info": {
      "name": "python"
    }
  },
  "cells": [
    {
      "cell_type": "markdown",
      "metadata": {
        "id": "view-in-github",
        "colab_type": "text"
      },
      "source": [
        "<a href=\"https://colab.research.google.com/github/Shambhurajdesai/basics/blob/main/Untitled5.ipynb\" target=\"_parent\"><img src=\"https://colab.research.google.com/assets/colab-badge.svg\" alt=\"Open In Colab\"/></a>"
      ]
    },
    {
      "cell_type": "code",
      "execution_count": null,
      "metadata": {
        "colab": {
          "base_uri": "https://localhost:8080/"
        },
        "id": "6MouaffTalQw",
        "outputId": "e418f764-90dc-4226-8535-11759c40aa09"
      },
      "outputs": [
        {
          "output_type": "stream",
          "name": "stdout",
          "text": [
            "The radius is: 5\n",
            "The height is: 9\n",
            "The Volumne of the Cylinder is:  706.9499999999999\n",
            "The Surface_area of the Cylinder is:  282.78\n"
          ]
        }
      ],
      "source": [
        "class Cylinder:\n",
        "  def __init__(cylinder,radius,height):\n",
        "    cylinder.radius = radius\n",
        "    cylinder.height = height\n",
        "\n",
        "  def display(cylinder):\n",
        "    print(\"The radius of the cylinder is: \",cylinder.radius)\n",
        "    print(\"The height of the cylinder is: \",cylinder.height)\n",
        "  \n",
        "  def Volume(cylinder):\n",
        "    return (3.142*(cylinder.radius**2)*cylinder.height)\n",
        "  def Sur_area(cylinder):\n",
        "    return (2*3.142*cylinder.radius*cylinder.height)\n",
        "\n",
        "R = int(input(\"The radius is: \"))\n",
        "H = int(input(\"The height is: \"))\n",
        "\n",
        "C1 = Cylinder(R,H)\n",
        "\n",
        "print(\"The Volumne of the Cylinder is: \",C1.Volume())\n",
        "print(\"The Surface_area of the Cylinder is: \",C1.Sur_area())\n"
      ]
    },
    {
      "cell_type": "code",
      "source": [
        "\n",
        "class BankAccount:\n",
        "  def __init__(bankaccount,balance,amount):\n",
        "    bankaccount.balance = balance\n",
        "    bankaccount.amount = amount\n",
        "  def display(bankaccount):  \n",
        "    print(\"Account balance is: \",bankaccount.balance)\n",
        "\n",
        "  def withdraw(bankaccount):\n",
        "    if bankaccount.amount > bankaccount.balance:\n",
        "      print(\"Not enough balance in your account\")\n",
        "      return bankaccount.balance\n",
        "    else:\n",
        "      return \"Withdrawn and account balance is: \",bankaccount.balance - bankaccount.amount\n",
        "      \n",
        "  def deposit(bankaccount):\n",
        "    return 'TOTAL: ',bankaccount.balance + bankaccount.amount,' Status : Credited'\n",
        "\n",
        "Balance = int(input(\"The balance is: \"))\n",
        "Amount = int(input(\"The amount is: \"))\n",
        "\n",
        "BK = BankAccount(Balance,Amount)\n",
        "\n",
        "print(\"The status is: \",BK.deposit())"
      ],
      "metadata": {
        "colab": {
          "base_uri": "https://localhost:8080/"
        },
        "id": "O-5Bd9EPcTjs",
        "outputId": "9983050c-1b4f-4c13-affc-49881344d739"
      },
      "execution_count": null,
      "outputs": [
        {
          "output_type": "stream",
          "name": "stdout",
          "text": [
            "The balance is: 666\n",
            "The amount is: 555\n",
            "The status is:  ('TOTAL: ', 1221, ' Status : Credited')\n"
          ]
        }
      ]
    },
    {
      "cell_type": "code",
      "source": [
        "BK = BankAccount(1200,1300)\n",
        "print(BK.withdraw(),\n",
        "      BK.deposit())\n"
      ],
      "metadata": {
        "colab": {
          "base_uri": "https://localhost:8080/"
        },
        "id": "DeqzsSpj_mhU",
        "outputId": "66f5d4da-fa92-4235-dfee-1ee2879333bb"
      },
      "execution_count": null,
      "outputs": [
        {
          "output_type": "stream",
          "name": "stdout",
          "text": [
            "Not enough balance in your account\n",
            "1200 ('TOTAL: ', 2500, ' Status : Credited')\n"
          ]
        }
      ]
    },
    {
      "cell_type": "code",
      "source": [
        "class Time:\n",
        "  def __init__(self,hour,minute):\n",
        "    self.hour = hour\n",
        "    self.minute = minute\n",
        "\n",
        "  def DisplayTime(self):\n",
        "    if (self.hour > 23) or (self.minute > 59):\n",
        "      print(\"The input hours should be less than 24 and input minutes should be less than 60\")\n",
        "    else:\n",
        "      if(self.hour < 12) and (self.minute < 60):\n",
        "        the_time_to_display = str(self.hour)+ \":\" + str(self.minute)  + \"AM\"\n",
        "        print(f'The time is {the_time_to_display}')\n",
        "      elif(self.hour == 12) and (self.minute < 60):\n",
        "        the_time_to_display = str(self.hour) + \":\"+ str(self.minute) + \"PM\"\n",
        "        print(f'The time is {the_time_to_display}')\n",
        "      else:\n",
        "        the_time_to_display = str(self.hour-12) + \":\"  + str(self.minute)+\"PM\"\n",
        "        print(the_time_to_display)\n",
        "\n",
        "H = int(input(\"hours: \"))\n",
        "M = int(input(\"minutes: \"))\n",
        "\n",
        "T = Time(H,M)\n",
        "\n",
        "print(T.DisplayTime())"
      ],
      "metadata": {
        "id": "wilhB2MD_2xF",
        "colab": {
          "base_uri": "https://localhost:8080/"
        },
        "outputId": "db40c80a-7b77-4e22-c84e-3a2d1692bee4"
      },
      "execution_count": 8,
      "outputs": [
        {
          "output_type": "stream",
          "name": "stdout",
          "text": [
            "hours: 00\n",
            "minutes: 01\n",
            "The time is 0:1AM\n",
            "None\n"
          ]
        }
      ]
    },
    {
      "cell_type": "code",
      "source": [
        "hour_min_list = [(23,45), (34,50), (12,34), (14,67),(19,20), (2,15), (0, 10)]\n",
        "\n",
        "for hour,min in hour_min_list:\n",
        "  T = Time(hour,min)\n",
        "  T.DisplayTime()"
      ],
      "metadata": {
        "colab": {
          "base_uri": "https://localhost:8080/"
        },
        "id": "L7ub2njYScYB",
        "outputId": "a5e0e7a6-85a7-4fac-c3d4-feb69bf4e437"
      },
      "execution_count": 9,
      "outputs": [
        {
          "output_type": "stream",
          "name": "stdout",
          "text": [
            "11:45PM\n",
            "The input hours should be less than 24 and input minutes should be less than 60\n",
            "The time is 12:34PM\n",
            "The input hours should be less than 24 and input minutes should be less than 60\n",
            "7:20PM\n",
            "The time is 2:15AM\n",
            "The time is 0:10AM\n"
          ]
        }
      ]
    },
    {
      "cell_type": "code",
      "source": [],
      "metadata": {
        "id": "lyh77eBQT3jb"
      },
      "execution_count": null,
      "outputs": []
    }
  ]
}
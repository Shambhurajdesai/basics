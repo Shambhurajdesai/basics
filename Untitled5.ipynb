{
  "nbformat": 4,
  "nbformat_minor": 0,
  "metadata": {
    "colab": {
      "provenance": [],
      "authorship_tag": "ABX9TyMrd2rk1Y/IauGQaBOxVL0X",
      "include_colab_link": true
    },
    "kernelspec": {
      "name": "python3",
      "display_name": "Python 3"
    },
    "language_info": {
      "name": "python"
    }
  },
  "cells": [
    {
      "cell_type": "markdown",
      "metadata": {
        "id": "view-in-github",
        "colab_type": "text"
      },
      "source": [
        "<a href=\"https://colab.research.google.com/github/Shambhurajdesai/basics/blob/main/Untitled5.ipynb\" target=\"_parent\"><img src=\"https://colab.research.google.com/assets/colab-badge.svg\" alt=\"Open In Colab\"/></a>"
      ]
    },
    {
      "cell_type": "code",
      "execution_count": 4,
      "metadata": {
        "colab": {
          "base_uri": "https://localhost:8080/"
        },
        "id": "6MouaffTalQw",
        "outputId": "e418f764-90dc-4226-8535-11759c40aa09"
      },
      "outputs": [
        {
          "output_type": "stream",
          "name": "stdout",
          "text": [
            "The radius is: 5\n",
            "The height is: 9\n",
            "The Volumne of the Cylinder is:  706.9499999999999\n",
            "The Surface_area of the Cylinder is:  282.78\n"
          ]
        }
      ],
      "source": [
        "class Cylinder:\n",
        "  def __init__(cylinder,radius,height):\n",
        "    cylinder.radius = radius\n",
        "    cylinder.height = height\n",
        "\n",
        "  def display(cylinder):\n",
        "    print(\"The radius of the cylinder is: \",cylinder.radius)\n",
        "    print(\"The height of the cylinder is: \",cylinder.height)\n",
        "  \n",
        "  def Volume(cylinder):\n",
        "    return (3.142*(cylinder.radius**2)*cylinder.height)\n",
        "  def Sur_area(cylinder):\n",
        "    return (2*3.142*cylinder.radius*cylinder.height)\n",
        "\n",
        "R = int(input(\"The radius is: \"))\n",
        "H = int(input(\"The height is: \"))\n",
        "\n",
        "C1 = Cylinder(R,H)\n",
        "\n",
        "print(\"The Volumne of the Cylinder is: \",C1.Volume())\n",
        "print(\"The Surface_area of the Cylinder is: \",C1.Sur_area())\n"
      ]
    },
    {
      "cell_type": "code",
      "source": [
        "\n",
        "class BankAccount:\n",
        "  def __init__(bankaccount,balance,amount):\n",
        "    bankaccount.balance = balance\n",
        "    bankaccount.amount = amount\n",
        "  def display(bankaccount):  \n",
        "    print(\"Account balance is: \",bankaccount.balance)\n",
        "\n",
        "  def withdraw(bankaccount):\n",
        "    if bankaccount.amount > bankaccount.balance:\n",
        "      print(\"Not enough balance in your account\")\n",
        "      return bankaccount.balance\n",
        "    else:\n",
        "      return \"Withdrawn and account balance is: \",bankaccount.balance - bankaccount.amount\n",
        "      \n",
        "  def deposit(bankaccount):\n",
        "    return 'TOTAL: ',bankaccount.balance + bankaccount.amount,' Status : Credited'\n",
        "\n",
        "Balance = int(input(\"The balance is: \"))\n",
        "Amount = int(input(\"The amount is: \"))\n",
        "\n",
        "BK = BankAccount(Balance,Amount)\n",
        "\n",
        "print(\"The status is: \",BK.deposit())"
      ],
      "metadata": {
        "colab": {
          "base_uri": "https://localhost:8080/"
        },
        "id": "O-5Bd9EPcTjs",
        "outputId": "9983050c-1b4f-4c13-affc-49881344d739"
      },
      "execution_count": 10,
      "outputs": [
        {
          "output_type": "stream",
          "name": "stdout",
          "text": [
            "The balance is: 666\n",
            "The amount is: 555\n",
            "The status is:  ('TOTAL: ', 1221, ' Status : Credited')\n"
          ]
        }
      ]
    },
    {
      "cell_type": "code",
      "source": [
        "BK = BankAccount(1200,1300)\n",
        "print(BK.withdraw(),\n",
        "      BK.deposit())\n"
      ],
      "metadata": {
        "colab": {
          "base_uri": "https://localhost:8080/"
        },
        "id": "DeqzsSpj_mhU",
        "outputId": "66f5d4da-fa92-4235-dfee-1ee2879333bb"
      },
      "execution_count": 11,
      "outputs": [
        {
          "output_type": "stream",
          "name": "stdout",
          "text": [
            "Not enough balance in your account\n",
            "1200 ('TOTAL: ', 2500, ' Status : Credited')\n"
          ]
        }
      ]
    },
    {
      "cell_type": "code",
      "source": [],
      "metadata": {
        "id": "wilhB2MD_2xF"
      },
      "execution_count": null,
      "outputs": []
    }
  ]
}